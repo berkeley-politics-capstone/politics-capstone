{
 "cells": [
  {
   "cell_type": "code",
   "execution_count": 1,
   "metadata": {},
   "outputs": [
    {
     "name": "stderr",
     "output_type": "stream",
     "text": [
      "[nltk_data] Downloading package punkt to /Users/kippy/nltk_data...\n",
      "[nltk_data]   Package punkt is already up-to-date!\n"
     ]
    }
   ],
   "source": [
    "import seaborn as sns\n",
    "import matplotlib.pylab as plt\n",
    "import matplotlib.dates as mdates\n",
    "import os\n",
    "import json\n",
    "import ast\n",
    "import pandas as pd\n",
    "from urllib.parse import urlparse\n",
    "import numpy as np\n",
    "from urllib.parse import urlparse\n",
    "import nltk\n",
    "nltk.download('punkt')\n",
    "\n",
    "import warnings\n",
    "warnings.filterwarnings('ignore')\n",
    "\n",
    "from tqdm._tqdm_notebook import tqdm_notebook as tqdm\n",
    "tqdm.pandas()\n",
    "\n",
    "\n",
    "DATA_DIRECTORY = '../../data/reddit/Article_data_2019/'\n",
    "candidates = [ \"TRUMP\", \"SANDERS\",\"DELANEY\",\"WARREN\",\"HARRIS\",\"GILLIBRAND\",\"O'ROURKE\",\"KLOBUCHAR\",\"BOOKER\",\n",
    "    \"BUTTIGIEG\",\"GABBARD\",\"YANG\",\"INSLEE\",\"HICKENLOOPER\",\"WILLIAMSON\",\"CASTRO\",\"BIDEN\", \"SWALWELL\",\n",
    "    \"DE BLASIO\", \"BENNET\"]\n",
    "candidates = set([x.lower() for x in candidates])"
   ]
  },
  {
   "cell_type": "markdown",
   "metadata": {},
   "source": [
    "#### Process Reddit Data"
   ]
  },
  {
   "cell_type": "code",
   "execution_count": 2,
   "metadata": {},
   "outputs": [],
   "source": [
    "PICKLE_NAME = DATA_DIRECTORY + \"reddit_2019_06_15_with_article_text.pkl\"\n",
    "df = pd.read_pickle(PICKLE_NAME)\n",
    "dates_df = pd.read_pickle(DATA_DIRECTORY+'reddit_2019_dates.pkl')\n",
    "df = df.merge(dates_df, how='left', on='id')"
   ]
  },
  {
   "cell_type": "code",
   "execution_count": 3,
   "metadata": {},
   "outputs": [
    {
     "data": {
      "application/vnd.jupyter.widget-view+json": {
       "model_id": "38d5272366af47f49b68aedb650e0d02",
       "version_major": 2,
       "version_minor": 0
      },
      "text/plain": [
       "HBox(children=(IntProgress(value=0, max=121986), HTML(value='')))"
      ]
     },
     "metadata": {},
     "output_type": "display_data"
    },
    {
     "name": "stdout",
     "output_type": "stream",
     "text": [
      "\n"
     ]
    }
   ],
   "source": [
    "# Flatten the news dictionary\n",
    "clean_df = pd.concat( [df.drop(['article_data'],axis=1), df['article_data'].progress_apply(pd.Series)]\n",
    "                      ,axis = 1)\n",
    "clean_df.drop(0, axis = 1, inplace=True)\n",
    "\n",
    "\n",
    "def df_column_uniquify(df):\n",
    "    df_columns = df.columns\n",
    "    new_columns = []\n",
    "    for item in df_columns:\n",
    "        counter = 0\n",
    "        newitem = item\n",
    "        while newitem in new_columns:\n",
    "            counter += 1\n",
    "            newitem = \"{}_{}\".format(item, counter)\n",
    "        new_columns.append(newitem)\n",
    "    df.columns = new_columns\n",
    "    return df\n",
    "\n",
    "clean_df = df_column_uniquify(clean_df)"
   ]
  },
  {
   "cell_type": "code",
   "execution_count": 4,
   "metadata": {},
   "outputs": [
    {
     "name": "stdout",
     "output_type": "stream",
     "text": [
      "(121986, 23)\n",
      "(82018, 23)\n",
      "(64581, 23)\n"
     ]
    }
   ],
   "source": [
    "print(clean_df.shape)\n",
    "print(clean_df[(~clean_df['title_1'].isnull()) & (~clean_df['text'].isnull())].shape)\n",
    "print(clean_df[(~clean_df['title_1'].isnull()) & (~clean_df['text'].isnull())].drop_duplicates('url').shape)"
   ]
  },
  {
   "cell_type": "code",
   "execution_count": 5,
   "metadata": {},
   "outputs": [
    {
     "data": {
      "application/vnd.jupyter.widget-view+json": {
       "model_id": "08c3649f38d4499ca728de81f7d4f1bb",
       "version_major": 2,
       "version_minor": 0
      },
      "text/plain": [
       "HBox(children=(IntProgress(value=0, max=64581), HTML(value='')))"
      ]
     },
     "metadata": {},
     "output_type": "display_data"
    },
    {
     "name": "stdout",
     "output_type": "stream",
     "text": [
      "\n"
     ]
    },
    {
     "data": {
      "application/vnd.jupyter.widget-view+json": {
       "model_id": "4c34d59a1d1c4fe5b0ee2c87421c0e34",
       "version_major": 2,
       "version_minor": 0
      },
      "text/plain": [
       "HBox(children=(IntProgress(value=0, max=64581), HTML(value='')))"
      ]
     },
     "metadata": {},
     "output_type": "display_data"
    },
    {
     "name": "stdout",
     "output_type": "stream",
     "text": [
      "\n"
     ]
    },
    {
     "data": {
      "application/vnd.jupyter.widget-view+json": {
       "model_id": "9cd2af3d8f9844949c30c418634e3bd6",
       "version_major": 2,
       "version_minor": 0
      },
      "text/plain": [
       "HBox(children=(IntProgress(value=0, max=64581), HTML(value='')))"
      ]
     },
     "metadata": {},
     "output_type": "display_data"
    },
    {
     "name": "stdout",
     "output_type": "stream",
     "text": [
      "\n"
     ]
    },
    {
     "data": {
      "application/vnd.jupyter.widget-view+json": {
       "model_id": "deba7a5c17a94f9aaf829888c21fad3c",
       "version_major": 2,
       "version_minor": 0
      },
      "text/plain": [
       "HBox(children=(IntProgress(value=0, max=64581), HTML(value='')))"
      ]
     },
     "metadata": {},
     "output_type": "display_data"
    },
    {
     "name": "stdout",
     "output_type": "stream",
     "text": [
      "\n"
     ]
    },
    {
     "data": {
      "application/vnd.jupyter.widget-view+json": {
       "model_id": "8096d2405131443e879aeba7c3a3113a",
       "version_major": 2,
       "version_minor": 0
      },
      "text/plain": [
       "HBox(children=(IntProgress(value=0, max=64581), HTML(value='')))"
      ]
     },
     "metadata": {},
     "output_type": "display_data"
    },
    {
     "name": "stdout",
     "output_type": "stream",
     "text": [
      "\n"
     ]
    }
   ],
   "source": [
    "# remove nulls, \n",
    "clean_df = clean_df[(~clean_df['title_1'].isnull()) & (~clean_df['text'].isnull())]\n",
    "clean_df = clean_df.drop_duplicates('url')\n",
    "clean_df[\"title_tokenized\"] = clean_df.progress_apply(lambda x: [token.lower() for token in nltk.word_tokenize(x.title)]\n",
    "                                                      , axis = 1)\n",
    "clean_df[\"text_tokenized\"] = clean_df.progress_apply(lambda x: [token.lower() for token in nltk.word_tokenize(x.text)]\n",
    "                                                     , axis = 1)\n",
    "clean_df[\"domain\"] = clean_df.progress_apply(lambda x: urlparse(x.url).netloc, axis = 1)\n",
    "clean_df['candidate_title'] = clean_df.progress_apply(lambda x: candidates.intersection(x.title_tokenized), axis=1)\n",
    "clean_df['candidate_text'] = clean_df.progress_apply(lambda x: candidates.intersection(x.text_tokenized), axis=1)"
   ]
  },
  {
   "cell_type": "markdown",
   "metadata": {},
   "source": [
    "Donations Data"
   ]
  },
  {
   "cell_type": "code",
   "execution_count": 6,
   "metadata": {},
   "outputs": [],
   "source": [
    "# find the path to each fec file, store paths in a nested dict\n",
    "fec_2020_paths = {}\n",
    "base_path = os.path.join(\"../../\",\"data\",\"fec\",\"2020\")\n",
    "for party_dir in os.listdir(base_path):\n",
    "    if(party_dir[0]!=\".\"):\n",
    "        fec_2020_paths[party_dir] = {}\n",
    "        for cand_dir in os.listdir(os.path.join(base_path,party_dir)):\n",
    "            if(cand_dir[0]!=\".\"):\n",
    "                fec_2020_paths[party_dir][cand_dir] = {}\n",
    "                for csv_path in os.listdir(os.path.join(base_path,party_dir,cand_dir)):\n",
    "                    if(csv_path.find(\"schedule_a\")>=0):\n",
    "                        fec_2020_paths[party_dir][cand_dir][\"donations\"] = \\\n",
    "                            os.path.join(base_path,party_dir,cand_dir,csv_path)\n",
    "                    elif(csv_path.find(\"schedule_b\")>=0):\n",
    "                        fec_2020_paths[party_dir][cand_dir][\"spending\"] = \\\n",
    "                            os.path.join(base_path,party_dir,cand_dir,csv_path)"
   ]
  },
  {
   "cell_type": "code",
   "execution_count": 7,
   "metadata": {},
   "outputs": [
    {
     "data": {
      "text/plain": [
       "{'republican': {'trump': {'spending': '../../data/fec/2020/republican/trump/schedule_b-2019-05-30T16_03_37.csv',\n",
       "   'donations': '../../data/fec/2020/republican/trump/schedule_a-2019-05-30T16_03_37.csv'}},\n",
       " 'democrat': {'williamson': {'spending': '../../data/fec/2020/democrat/williamson/schedule_b-2019-05-30T20_41_44.csv',\n",
       "   'donations': '../../data/fec/2020/democrat/williamson/schedule_a-2019-05-30T20_41_32.csv'},\n",
       "  'harris': {'spending': '../../data/fec/2020/democrat/harris/schedule_b-2019-05-30T17_22_09.csv',\n",
       "   'donations': '../../data/fec/2020/democrat/harris/schedule_a-2019-05-30T17_19_58.csv'},\n",
       "  'buttigieg': {'donations': '../../data/fec/2020/democrat/buttigieg/schedule_a-2019-05-30T17_32_11.csv',\n",
       "   'spending': '../../data/fec/2020/democrat/buttigieg/schedule_b-2019-05-30T17_32_14.csv'},\n",
       "  'klobuchar': {'spending': '../../data/fec/2020/democrat/klobuchar/schedule_b-2019-05-30T17_28_05.csv',\n",
       "   'donations': '../../data/fec/2020/democrat/klobuchar/schedule_a-2019-05-30T17_26_34.csv'},\n",
       "  'yang': {'donations': '../../data/fec/2020/democrat/yang/schedule_a-2019-05-30T17_36_18.csv',\n",
       "   'spending': '../../data/fec/2020/democrat/yang/schedule_b-2019-05-30T17_36_30.csv'},\n",
       "  'gillibrand': {'donations': '../../data/fec/2020/democrat/gillibrand/schedule_a-2019-05-30T17_22_03.csv',\n",
       "   'spending': '../../data/fec/2020/democrat/gillibrand/schedule_b-2019-05-30T17_25_26.csv'},\n",
       "  'delaney': {'spending': '../../data/fec/2020/democrat/delaney/schedule_b-2019-05-30T17_11_01.csv',\n",
       "   'donations': '../../data/fec/2020/democrat/delaney/schedule_a-2019-05-30T17_10_21.csv'},\n",
       "  'inslee': {'spending': '../../data/fec/2020/democrat/inslee/schedule_b-2019-05-30T17_39_27.csv',\n",
       "   'donations': '../../data/fec/2020/democrat/inslee/schedule_a-2019-05-30T17_39_13.csv'},\n",
       "  'hickenlooper': {'spending': '../../data/fec/2020/democrat/hickenlooper/schedule_b-2019-05-30T20_40_10.csv',\n",
       "   'donations': '../../data/fec/2020/democrat/hickenlooper/schedule_a-2019-05-30T17_42_20.csv'},\n",
       "  'orourke': {'donations': '../../data/fec/2020/democrat/orourke/schedule_a-2019-05-30T17_25_21.csv',\n",
       "   'spending': '../../data/fec/2020/democrat/orourke/schedule_b-2019-05-30T17_26_40.csv'},\n",
       "  'warren': {'spending': '../../data/fec/2020/democrat/warren/schedule_b-2019-05-30T17_20_23.csv',\n",
       "   'donations': '../../data/fec/2020/democrat/warren/schedule_a-2019-05-30T17_19_58.csv'},\n",
       "  'castro': {'donations': '../../data/fec/2020/democrat/castro/schedule_a-2019-05-30T20_42_42.csv',\n",
       "   'spending': '../../data/fec/2020/democrat/castro/schedule_b-2019-05-30T20_42_54.csv'},\n",
       "  'sanders': {'spending': '../../data/fec/2020/democrat/sanders/schedule_b-2019-05-30T17_06_38.csv',\n",
       "   'donations': '../../data/fec/2020/democrat/sanders/schedule_a-2019-05-30T17_07_08.csv'},\n",
       "  'gabbard': {'spending': '../../data/fec/2020/democrat/gabbard/schedule_b-2019-05-30T17_33_24.csv',\n",
       "   'donations': '../../data/fec/2020/democrat/gabbard/schedule_a-2019-05-30T17_33_22.csv'},\n",
       "  'booker': {'spending': '../../data/fec/2020/democrat/booker/schedule_b-2019-05-30T17_29_42.csv',\n",
       "   'donations': '../../data/fec/2020/democrat/booker/schedule_a-2019-05-30T17_30_40.csv'}}}"
      ]
     },
     "execution_count": 7,
     "metadata": {},
     "output_type": "execute_result"
    }
   ],
   "source": [
    "fec_2020_paths"
   ]
  },
  {
   "cell_type": "code",
   "execution_count": 138,
   "metadata": {},
   "outputs": [
    {
     "data": {
      "text/plain": [
       "Index(['committee_id', 'committee_name', 'report_year', 'report_type',\n",
       "       'image_number', 'line_number', 'transaction_id', 'file_number',\n",
       "       'committee_name.1', 'entity_type', 'entity_type_desc',\n",
       "       'unused_contbr_id', 'contributor_prefix', 'contributor_name',\n",
       "       'recipient_committee_type', 'contributor_first_name',\n",
       "       'contributor_middle_name', 'contributor_last_name',\n",
       "       'contributor_suffix', 'contributor_street_1', 'contributor_street_2',\n",
       "       'contributor_city', 'contributor_state', 'contributor_zip',\n",
       "       'contributor_employer', 'contributor_occupation', 'contributor_id',\n",
       "       'receipt_type', 'receipt_type_desc', 'receipt_type_full', 'memo_code',\n",
       "       'memo_code_full', 'contribution_receipt_date',\n",
       "       'contribution_receipt_amount', 'contributor_aggregate_ytd',\n",
       "       'candidate_id', 'candidate_name', 'candidate_first_name',\n",
       "       'candidate_last_name', 'candidate_middle_name', 'candidate_prefix',\n",
       "       'candidate_suffix', 'candidate_office', 'candidate_office_full',\n",
       "       'candidate_office_state', 'candidate_office_state_full',\n",
       "       'candidate_office_district', 'conduit_committee_id',\n",
       "       'conduit_committee_name', 'conduit_committee_street1',\n",
       "       'conduit_committee_street2', 'conduit_committee_city',\n",
       "       'conduit_committee_state', 'conduit_committee_zip',\n",
       "       'donor_committee_name', 'national_committee_nonfederal_account',\n",
       "       'election_type', 'election_type_full', 'fec_election_type_desc',\n",
       "       'fec_election_year', 'amendment_indicator', 'amendment_indicator_desc',\n",
       "       'schedule_type_full', 'load_date', 'original_sub_id',\n",
       "       'back_reference_transaction_id', 'back_reference_schedule_name',\n",
       "       'filing_form', 'link_id', 'is_individual', 'memo_text',\n",
       "       'two_year_transaction_period', 'schedule_type', 'increased_limit',\n",
       "       'sub_id', 'pdf_url', 'line_number_label', 'day'],\n",
       "      dtype='object')"
      ]
     },
     "execution_count": 138,
     "metadata": {},
     "output_type": "execute_result"
    }
   ],
   "source": [
    "donate_df.columns"
   ]
  },
  {
   "cell_type": "code",
   "execution_count": 10,
   "metadata": {},
   "outputs": [],
   "source": [
    "def make_ts(candidate, paths, party):\n",
    "    reddit_df = clean_df[clean_df.apply(lambda x: candidate in x.candidate_text, axis=1)]\n",
    "    reddit_df['count'] = 1\n",
    "    reddit_df = reddit_df[~reddit_df['created_utc'].isnull()]\n",
    "    reddit_df['day'] = reddit_df['created_utc'].dt.round('D')\n",
    "    \n",
    "    if(\"donations\" in paths[party][candidate].keys()):\n",
    "            donate_df = pd.read_csv(paths[party][candidate][\"donations\"])\n",
    "            donate_df['count_1'] = 1\n",
    "            donate_df[\"contribution_receipt_date\"] = pd.to_datetime(donate_df[\"contribution_receipt_date\"])\n",
    "            donate_df[\"day\"] = donate_df[\"contribution_receipt_date\"]\n",
    "            ts = donate_df.groupby(by=\"day\")[\"count_1\"].sum().to_frame()\n",
    "            \n",
    "    reddit_ts = reddit_df.fillna(0)[['day', 'score', 'num_comments', 'count']].groupby(['day']).agg('sum')\n",
    "    return ts.join(reddit_ts, how='outer').fillna(0)\n",
    "    "
   ]
  },
  {
   "cell_type": "code",
   "execution_count": 11,
   "metadata": {},
   "outputs": [],
   "source": [
    "candidate_dfs = dict()\n",
    "for candidate in fec_2020_paths['democrat'].keys():\n",
    "    candidate_dfs[candidate] = make_ts(candidate, fec_2020_paths, 'democrat')"
   ]
  },
  {
   "cell_type": "code",
   "execution_count": 14,
   "metadata": {},
   "outputs": [
    {
     "data": {
      "image/png": "[encoded data removed]",
      "text/plain": [
       "<Figure size 1224x720 with 1 Axes>"
      ]
     },
     "metadata": {},
     "output_type": "display_data"
    }
   ],
   "source": [
    "join_ts = candidate_dfs['sanders']\n",
    "df_norm = (join_ts - join_ts.mean()) / join_ts.std()\n",
    "sns.set_style('ticks')\n",
    "ax = df_norm[['count_1', 'score']].plot(figsize=(17,10), x_compat=True)\n",
    "ax.xaxis.set_major_locator(mdates.WeekdayLocator())\n",
    "ax.xaxis.set_major_formatter(mdates.DateFormatter('%Y-%m-%d'))\n",
    "ax.xaxis.set_minor_locator(mdates.DayLocator())\n",
    "ax.grid()\n",
    "plt.show()"
   ]
  }
 ],
 "metadata": {
  "kernelspec": {
   "display_name": "Python 3",
   "language": "python",
   "name": "python3"
  },
  "language_info": {
   "codemirror_mode": {
    "name": "ipython",
    "version": 3
   },
   "file_extension": ".py",
   "mimetype": "text/x-python",
   "name": "python",
   "nbconvert_exporter": "python",
   "pygments_lexer": "ipython3",
   "version": "3.7.3"
  }
 },
 "nbformat": 4,
 "nbformat_minor": 2
}
