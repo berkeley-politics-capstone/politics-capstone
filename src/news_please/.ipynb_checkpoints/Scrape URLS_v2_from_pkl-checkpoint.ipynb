{
 "cells": [
  {
   "cell_type": "code",
   "execution_count": 1,
   "metadata": {
    "scrolled": true
   },
   "outputs": [],
   "source": [
    "import pandas as pd\n",
    "from tqdm._tqdm_notebook import tqdm_notebook as tqdm\n",
    "from newsplease import NewsPlease\n",
    "tqdm.pandas()"
   ]
  },
  {
   "cell_type": "code",
   "execution_count": 2,
   "metadata": {},
   "outputs": [],
   "source": [
    "#with zipfile.ZipFile('articlelinks.zip', 'r').open(\"articlelinks.txt\", \"r\") as f:\n",
    "#    data = eval(f.readline())\n",
    "DATA_DIR = \"../../data/reddit/Article_data_2019\"\n",
    "DATA_FILE = \"/reddit_2019jun16tojul1_articleurls\"\n",
    "data = pd.read_pickle(DATA_DIR + DATA_FILE + \".pkl\")"
   ]
  },
  {
   "cell_type": "code",
   "execution_count": 3,
   "metadata": {},
   "outputs": [
    {
     "data": {
      "text/html": [
       "<div>\n",
       "<style scoped>\n",
       "    .dataframe tbody tr th:only-of-type {\n",
       "        vertical-align: middle;\n",
       "    }\n",
       "\n",
       "    .dataframe tbody tr th {\n",
       "        vertical-align: top;\n",
       "    }\n",
       "\n",
       "    .dataframe thead th {\n",
       "        text-align: right;\n",
       "    }\n",
       "</style>\n",
       "<table border=\"1\" class=\"dataframe\">\n",
       "  <thead>\n",
       "    <tr style=\"text-align: right;\">\n",
       "      <th></th>\n",
       "      <th>id</th>\n",
       "      <th>num_comments</th>\n",
       "      <th>score</th>\n",
       "      <th>subreddit</th>\n",
       "      <th>subreddit_subscribers</th>\n",
       "      <th>title</th>\n",
       "      <th>url</th>\n",
       "    </tr>\n",
       "  </thead>\n",
       "  <tbody>\n",
       "    <tr>\n",
       "      <th>0</th>\n",
       "      <td>c1a95h</td>\n",
       "      <td>30</td>\n",
       "      <td>29</td>\n",
       "      <td>JoeBiden</td>\n",
       "      <td>1039</td>\n",
       "      <td>South Carolina dem. poll: Biden 37%, Warren 17...</td>\n",
       "      <td>https://www.postandcourier.com/politics/warren...</td>\n",
       "    </tr>\n",
       "    <tr>\n",
       "      <th>1</th>\n",
       "      <td>c1aut2</td>\n",
       "      <td>3</td>\n",
       "      <td>16</td>\n",
       "      <td>JoeBiden</td>\n",
       "      <td>1039</td>\n",
       "      <td>Fox News Poll: Democrats want a steady leader;...</td>\n",
       "      <td>https://www.foxnews.com/politics/fox-news-poll...</td>\n",
       "    </tr>\n",
       "    <tr>\n",
       "      <th>2</th>\n",
       "      <td>c1emsd</td>\n",
       "      <td>0</td>\n",
       "      <td>1</td>\n",
       "      <td>JoeBiden</td>\n",
       "      <td>1040</td>\n",
       "      <td>Biden calls for equal pay for US women's socce...</td>\n",
       "      <td>https://thehill.com/homenews/campaign/448815-b...</td>\n",
       "    </tr>\n",
       "    <tr>\n",
       "      <th>3</th>\n",
       "      <td>c14017</td>\n",
       "      <td>6</td>\n",
       "      <td>20</td>\n",
       "      <td>Pete_Buttigieg</td>\n",
       "      <td>22630</td>\n",
       "      <td>WHY SOME CANDIDATES ARE SURGING, STALLING IN IOWA</td>\n",
       "      <td>https://iowastartingline.com/2019/06/14/why-so...</td>\n",
       "    </tr>\n",
       "    <tr>\n",
       "      <th>4</th>\n",
       "      <td>c14jyo</td>\n",
       "      <td>5</td>\n",
       "      <td>56</td>\n",
       "      <td>Pete_Buttigieg</td>\n",
       "      <td>22634</td>\n",
       "      <td>Mayor Buttigieg named to national security org...</td>\n",
       "      <td>https://www.wndu.com/home/headlines/Buttigieg-...</td>\n",
       "    </tr>\n",
       "  </tbody>\n",
       "</table>\n",
       "</div>"
      ],
      "text/plain": [
       "       id num_comments score       subreddit subreddit_subscribers  \\\n",
       "0  c1a95h           30    29        JoeBiden                  1039   \n",
       "1  c1aut2            3    16        JoeBiden                  1039   \n",
       "2  c1emsd            0     1        JoeBiden                  1040   \n",
       "3  c14017            6    20  Pete_Buttigieg                 22630   \n",
       "4  c14jyo            5    56  Pete_Buttigieg                 22634   \n",
       "\n",
       "                                               title  \\\n",
       "0  South Carolina dem. poll: Biden 37%, Warren 17...   \n",
       "1  Fox News Poll: Democrats want a steady leader;...   \n",
       "2  Biden calls for equal pay for US women's socce...   \n",
       "3  WHY SOME CANDIDATES ARE SURGING, STALLING IN IOWA   \n",
       "4  Mayor Buttigieg named to national security org...   \n",
       "\n",
       "                                                 url  \n",
       "0  https://www.postandcourier.com/politics/warren...  \n",
       "1  https://www.foxnews.com/politics/fox-news-poll...  \n",
       "2  https://thehill.com/homenews/campaign/448815-b...  \n",
       "3  https://iowastartingline.com/2019/06/14/why-so...  \n",
       "4  https://www.wndu.com/home/headlines/Buttigieg-...  "
      ]
     },
     "execution_count": 3,
     "metadata": {},
     "output_type": "execute_result"
    }
   ],
   "source": [
    "data.head()"
   ]
  },
  {
   "cell_type": "code",
   "execution_count": 4,
   "metadata": {
    "scrolled": true
   },
   "outputs": [
    {
     "data": {
      "text/plain": [
       "{'authors': [],\n",
       " 'date_download': '2019-07-06 14:48:28',\n",
       " 'date_modify': 'None',\n",
       " 'date_publish': '2019-06-15 20:55:29',\n",
       " 'description': 'Democratic presidential candidate Pete Buttigieg responded to remarks from\\xa0President Trump regarding offers of foreign intelligence, saying that in that case, the president should \"call the FBI.\"',\n",
       " 'filename': 'https%3A%2F%2Fthehill.com%2Fhomenews%2Fcampaign%2F448755-buttigieg-on-offers-of-foreign-intel-just-call-the-fbi.json',\n",
       " 'image_url': 'https://thehill.com/sites/default/files/buttigiegpete_061419gn9_lead.jpg',\n",
       " 'language': None,\n",
       " 'localpath': None,\n",
       " 'source_domain': 'thehill.com',\n",
       " 'text': 'Democratic presidential candidate Pete Buttigieg Peter (Pete) Paul ButtigiegBiden says he opposes expanding the Supreme Court Harris raises close to million in second quarter The Hill\\'s Campaign Report: Biden looks to rebound after tough week MORE responded to remarks from President Trump Donald John TrumpThe Democratic Party is making an irreversible left turn Undocumented immigrant workers fired from Trump golf clubs seeking White House meeting Trump slams Biden as a \\'reclamation project\\' who won\\'t win in 2020 MORE regarding offers of foreign intelligence, saying that in that case, the president should \"call the FBI.\"\\nThe South Bend, Ind. mayor told CBS\\'s \"Face the Nation\" that it is not acceptable to receive information from a foreign government about a political opponent.\\nADVERTISEMENT\\n\"Just call the FBI. It\\'s not hard. It\\'s not complicated,\" he said. \"If you think there\\'s a foreign effort to tamper with an American election and you\\'re an American who cares about America, you call the FBI.\"\\nButtigieg also said that this issue \"isn\\'t hypothetical,\" referring to Russian interference attempts in in past elections.\\n\"We were attacked by a hostile foreign power that decided that they could damage America, destabilize America, by intervening in the election to help him win. And they did and he did, and now America\\'s destabilized,\" he said, apparently talking about Trump. \"So this is not some academic exercise. This is something that has happened and will probably happen again.\"\\nThe presidential hopeful also questioned how a president who cares about the U.S. could allow a \"potentially hostile foreign power\" to interfere in its elections.\\n\"You have to draw a very clear line,\" he said. \"If you care about this country, if you believe in putting this country first, how could you ever talk about allowing a foreign- potentially hostile foreign power to interfere in the most sacred thing that we have in our civic tradition in America, which is our elections?\"\\nWhen asked about @realDonaldTrump’s comments that if a foreign government offered him information on his opponent he\\'d listen. @PeteButtigieg says that isn’t acceptable, “Just call the FBI. It\\'s not hard. It\\'s not complicated.” Story here: https://t.co/A8YJYuPkhB pic.twitter.com/yeNDaEphYs — Face The Nation (@FaceTheNation) June 15, 2019\\nButtigieg\\'s remarks come after President Trump said Wednesday that he would consider accepting information political opponents from foreign entities.\\n“I think you might want to listen. There’s nothing wrong with listening,” Trump told ABC News. “It’s not an interference. They have information. I think I’d take it. If I thought there was something wrong, I’d go maybe to the FBI.”\\nIn the interview, ABC News host George Stephanopoulos George Robert StephanopoulosThe Hill\\'s 12:30 Report: Trump takes gamble on North Korea 2020 Democratic candidates pan Trump\\'s North Korea visit Ex-Bush CIA chief Hayden denounces Trump comments on Russian election interference MORE noted that Trump\\'s FBI director, Christopher Wray, has said campaigns should report such contact from foreign entities to the bureau.\\n\"The FBI director is wrong,\" Trump responded.\\nThe president\\'s remarks received criticism from several lawmakers.',\n",
       " 'title': \"Buttigieg on offers of foreign intel: 'Just call the FBI'\",\n",
       " 'title_page': None,\n",
       " 'title_rss': None,\n",
       " 'url': 'https://thehill.com/homenews/campaign/448755-buttigieg-on-offers-of-foreign-intel-just-call-the-fbi'}"
      ]
     },
     "execution_count": 4,
     "metadata": {},
     "output_type": "execute_result"
    }
   ],
   "source": [
    "news = NewsPlease.from_url(data.url[5], timeout=5)\n",
    "news.get_serializable_dict()"
   ]
  },
  {
   "cell_type": "code",
   "execution_count": null,
   "metadata": {
    "scrolled": true
   },
   "outputs": [
    {
     "data": {
      "application/vnd.jupyter.widget-view+json": {
       "model_id": "09aa77c8f9c34ab5acf6d344c31c8ff8",
       "version_major": 2,
       "version_minor": 0
      },
      "text/plain": [
       "HBox(children=(IntProgress(value=0, max=19553), HTML(value='')))"
      ]
     },
     "metadata": {},
     "output_type": "display_data"
    },
    {
     "name": "stderr",
     "output_type": "stream",
     "text": [
      "Some characters could not be decoded, and were replaced with REPLACEMENT CHARACTER.\n",
      "Some characters could not be decoded, and were replaced with REPLACEMENT CHARACTER.\n",
      "Some characters could not be decoded, and were replaced with REPLACEMENT CHARACTER.\n",
      "Some characters could not be decoded, and were replaced with REPLACEMENT CHARACTER.\n",
      "Some characters could not be decoded, and were replaced with REPLACEMENT CHARACTER.\n"
     ]
    }
   ],
   "source": [
    "def get_data(row):\n",
    "    try:\n",
    "        if row.url is not None and not row.url.endswith('.pdf'):\n",
    "            news = NewsPlease.from_url(row.url, timeout=5)\n",
    "            return news.get_serializable_dict()\n",
    "    except Exception as e:\n",
    "        return None\n",
    "\n",
    "\n",
    "data['article_data'] = data.progress_apply(lambda x: get_data(x), axis=1)"
   ]
  },
  {
   "cell_type": "code",
   "execution_count": 42,
   "metadata": {},
   "outputs": [],
   "source": [
    "data.to_pickle(DATA_DIR + DATA_FILE +'_with_text.pkl')"
   ]
  },
  {
   "cell_type": "code",
   "execution_count": 43,
   "metadata": {},
   "outputs": [
    {
     "data": {
      "text/html": [
       "<div>\n",
       "<style scoped>\n",
       "    .dataframe tbody tr th:only-of-type {\n",
       "        vertical-align: middle;\n",
       "    }\n",
       "\n",
       "    .dataframe tbody tr th {\n",
       "        vertical-align: top;\n",
       "    }\n",
       "\n",
       "    .dataframe thead th {\n",
       "        text-align: right;\n",
       "    }\n",
       "</style>\n",
       "<table border=\"1\" class=\"dataframe\">\n",
       "  <thead>\n",
       "    <tr style=\"text-align: right;\">\n",
       "      <th></th>\n",
       "      <th>id</th>\n",
       "      <th>num_comments</th>\n",
       "      <th>score</th>\n",
       "      <th>subreddit</th>\n",
       "      <th>subreddit_subscribers</th>\n",
       "      <th>title</th>\n",
       "      <th>url</th>\n",
       "      <th>article_data</th>\n",
       "    </tr>\n",
       "  </thead>\n",
       "  <tbody>\n",
       "    <tr>\n",
       "      <th>0</th>\n",
       "      <td>2qysnm</td>\n",
       "      <td>1</td>\n",
       "      <td>1</td>\n",
       "      <td>politics</td>\n",
       "      <td>NaN</td>\n",
       "      <td>How 21st century capitalism is failing us</td>\n",
       "      <td>http://www.bmj.com/content/349/bmj.g7516</td>\n",
       "      <td>{'authors': ['Richard Wilkinson', 'University ...</td>\n",
       "    </tr>\n",
       "    <tr>\n",
       "      <th>1</th>\n",
       "      <td>2qytdc</td>\n",
       "      <td>3</td>\n",
       "      <td>6</td>\n",
       "      <td>politics</td>\n",
       "      <td>NaN</td>\n",
       "      <td>Separating himself from much of the emerging R...</td>\n",
       "      <td>http://bigstory.ap.org/article/2962678ccb644d4...</td>\n",
       "      <td>{'authors': [], 'date_download': '2019-06-20 0...</td>\n",
       "    </tr>\n",
       "    <tr>\n",
       "      <th>2</th>\n",
       "      <td>2qytuh</td>\n",
       "      <td>1</td>\n",
       "      <td>19</td>\n",
       "      <td>politics</td>\n",
       "      <td>NaN</td>\n",
       "      <td>Money and Politics: The Most Undercovered Stor...</td>\n",
       "      <td>http://billmoyers.com/2014/12/31/money-politic...</td>\n",
       "      <td>{'authors': [], 'date_download': '2019-06-20 0...</td>\n",
       "    </tr>\n",
       "    <tr>\n",
       "      <th>3</th>\n",
       "      <td>2qyu5j</td>\n",
       "      <td>1</td>\n",
       "      <td>5</td>\n",
       "      <td>politics</td>\n",
       "      <td>NaN</td>\n",
       "      <td>Gov. O’Malley to commute sentences of Maryland...</td>\n",
       "      <td>http://www.washingtonpost.com/local/md-politic...</td>\n",
       "      <td>None</td>\n",
       "    </tr>\n",
       "    <tr>\n",
       "      <th>4</th>\n",
       "      <td>2qyu95</td>\n",
       "      <td>1</td>\n",
       "      <td>1</td>\n",
       "      <td>politics</td>\n",
       "      <td>NaN</td>\n",
       "      <td>More Louisiana Republicans Blame Obama For Hur...</td>\n",
       "      <td>http://www.huffingtonpost.com/2013/08/21/obama...</td>\n",
       "      <td>{'authors': ['Politics Reporter', 'The Huffing...</td>\n",
       "    </tr>\n",
       "  </tbody>\n",
       "</table>\n",
       "</div>"
      ],
      "text/plain": [
       "       id num_comments score subreddit subreddit_subscribers  \\\n",
       "0  2qysnm            1     1  politics                   NaN   \n",
       "1  2qytdc            3     6  politics                   NaN   \n",
       "2  2qytuh            1    19  politics                   NaN   \n",
       "3  2qyu5j            1     5  politics                   NaN   \n",
       "4  2qyu95            1     1  politics                   NaN   \n",
       "\n",
       "                                               title  \\\n",
       "0          How 21st century capitalism is failing us   \n",
       "1  Separating himself from much of the emerging R...   \n",
       "2  Money and Politics: The Most Undercovered Stor...   \n",
       "3  Gov. O’Malley to commute sentences of Maryland...   \n",
       "4  More Louisiana Republicans Blame Obama For Hur...   \n",
       "\n",
       "                                                 url  \\\n",
       "0           http://www.bmj.com/content/349/bmj.g7516   \n",
       "1  http://bigstory.ap.org/article/2962678ccb644d4...   \n",
       "2  http://billmoyers.com/2014/12/31/money-politic...   \n",
       "3  http://www.washingtonpost.com/local/md-politic...   \n",
       "4  http://www.huffingtonpost.com/2013/08/21/obama...   \n",
       "\n",
       "                                        article_data  \n",
       "0  {'authors': ['Richard Wilkinson', 'University ...  \n",
       "1  {'authors': [], 'date_download': '2019-06-20 0...  \n",
       "2  {'authors': [], 'date_download': '2019-06-20 0...  \n",
       "3                                               None  \n",
       "4  {'authors': ['Politics Reporter', 'The Huffing...  "
      ]
     },
     "execution_count": 43,
     "metadata": {},
     "output_type": "execute_result"
    }
   ],
   "source": [
    "data.head()"
   ]
  }
 ],
 "metadata": {
  "kernelspec": {
   "display_name": "Python 3",
   "language": "python",
   "name": "python3"
  },
  "language_info": {
   "codemirror_mode": {
    "name": "ipython",
    "version": 3
   },
   "file_extension": ".py",
   "mimetype": "text/x-python",
   "name": "python",
   "nbconvert_exporter": "python",
   "pygments_lexer": "ipython3",
   "version": "3.7.3"
  }
 },
 "nbformat": 4,
 "nbformat_minor": 2
}
