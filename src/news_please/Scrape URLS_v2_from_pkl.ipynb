{
 "cells": [
  {
   "cell_type": "code",
   "execution_count": 30,
   "metadata": {
    "scrolled": true
   },
   "outputs": [],
   "source": [
    "import pandas as pd\n",
    "from tqdm._tqdm_notebook import tqdm_notebook as tqdm\n",
    "from newsplease import NewsPlease\n",
    "tqdm.pandas()"
   ]
  },
  {
   "cell_type": "code",
   "execution_count": 21,
   "metadata": {},
   "outputs": [],
   "source": [
    "#with zipfile.ZipFile('articlelinks.zip', 'r').open(\"articlelinks.txt\", \"r\") as f:\n",
    "#    data = eval(f.readline())\n",
    "DATA_DIR = \"../../data/reddit/\"\n",
    "data = pd.read_pickle(DATA_DIR+\"Article_data_2016/reddit_2016_05_31.pkl\")"
   ]
  },
  {
   "cell_type": "code",
   "execution_count": 23,
   "metadata": {},
   "outputs": [
    {
     "data": {
      "text/html": [
       "<div>\n",
       "<style scoped>\n",
       "    .dataframe tbody tr th:only-of-type {\n",
       "        vertical-align: middle;\n",
       "    }\n",
       "\n",
       "    .dataframe tbody tr th {\n",
       "        vertical-align: top;\n",
       "    }\n",
       "\n",
       "    .dataframe thead th {\n",
       "        text-align: right;\n",
       "    }\n",
       "</style>\n",
       "<table border=\"1\" class=\"dataframe\">\n",
       "  <thead>\n",
       "    <tr style=\"text-align: right;\">\n",
       "      <th></th>\n",
       "      <th>id</th>\n",
       "      <th>num_comments</th>\n",
       "      <th>score</th>\n",
       "      <th>subreddit</th>\n",
       "      <th>subreddit_subscribers</th>\n",
       "      <th>title</th>\n",
       "      <th>url</th>\n",
       "    </tr>\n",
       "  </thead>\n",
       "  <tbody>\n",
       "    <tr>\n",
       "      <th>0</th>\n",
       "      <td>2qysnm</td>\n",
       "      <td>1</td>\n",
       "      <td>1</td>\n",
       "      <td>politics</td>\n",
       "      <td>NaN</td>\n",
       "      <td>How 21st century capitalism is failing us</td>\n",
       "      <td>http://www.bmj.com/content/349/bmj.g7516</td>\n",
       "    </tr>\n",
       "    <tr>\n",
       "      <th>1</th>\n",
       "      <td>2qytdc</td>\n",
       "      <td>3</td>\n",
       "      <td>6</td>\n",
       "      <td>politics</td>\n",
       "      <td>NaN</td>\n",
       "      <td>Separating himself from much of the emerging R...</td>\n",
       "      <td>http://bigstory.ap.org/article/2962678ccb644d4...</td>\n",
       "    </tr>\n",
       "    <tr>\n",
       "      <th>2</th>\n",
       "      <td>2qytuh</td>\n",
       "      <td>1</td>\n",
       "      <td>19</td>\n",
       "      <td>politics</td>\n",
       "      <td>NaN</td>\n",
       "      <td>Money and Politics: The Most Undercovered Stor...</td>\n",
       "      <td>http://billmoyers.com/2014/12/31/money-politic...</td>\n",
       "    </tr>\n",
       "    <tr>\n",
       "      <th>3</th>\n",
       "      <td>2qyu5j</td>\n",
       "      <td>1</td>\n",
       "      <td>5</td>\n",
       "      <td>politics</td>\n",
       "      <td>NaN</td>\n",
       "      <td>Gov. O’Malley to commute sentences of Maryland...</td>\n",
       "      <td>http://www.washingtonpost.com/local/md-politic...</td>\n",
       "    </tr>\n",
       "    <tr>\n",
       "      <th>4</th>\n",
       "      <td>2qyu95</td>\n",
       "      <td>1</td>\n",
       "      <td>1</td>\n",
       "      <td>politics</td>\n",
       "      <td>NaN</td>\n",
       "      <td>More Louisiana Republicans Blame Obama For Hur...</td>\n",
       "      <td>http://www.huffingtonpost.com/2013/08/21/obama...</td>\n",
       "    </tr>\n",
       "  </tbody>\n",
       "</table>\n",
       "</div>"
      ],
      "text/plain": [
       "       id num_comments score subreddit subreddit_subscribers  \\\n",
       "0  2qysnm            1     1  politics                   NaN   \n",
       "1  2qytdc            3     6  politics                   NaN   \n",
       "2  2qytuh            1    19  politics                   NaN   \n",
       "3  2qyu5j            1     5  politics                   NaN   \n",
       "4  2qyu95            1     1  politics                   NaN   \n",
       "\n",
       "                                               title  \\\n",
       "0          How 21st century capitalism is failing us   \n",
       "1  Separating himself from much of the emerging R...   \n",
       "2  Money and Politics: The Most Undercovered Stor...   \n",
       "3  Gov. O’Malley to commute sentences of Maryland...   \n",
       "4  More Louisiana Republicans Blame Obama For Hur...   \n",
       "\n",
       "                                                 url  \n",
       "0           http://www.bmj.com/content/349/bmj.g7516  \n",
       "1  http://bigstory.ap.org/article/2962678ccb644d4...  \n",
       "2  http://billmoyers.com/2014/12/31/money-politic...  \n",
       "3  http://www.washingtonpost.com/local/md-politic...  \n",
       "4  http://www.huffingtonpost.com/2013/08/21/obama...  "
      ]
     },
     "execution_count": 23,
     "metadata": {},
     "output_type": "execute_result"
    }
   ],
   "source": [
    "data.head()"
   ]
  },
  {
   "cell_type": "code",
   "execution_count": 39,
   "metadata": {
    "scrolled": true
   },
   "outputs": [
    {
     "data": {
      "text/plain": [
       "{'authors': [],\n",
       " 'date_download': '2019-06-20 08:06:26',\n",
       " 'date_modify': 'None',\n",
       " 'date_publish': '2014-12-31 00:00:00',\n",
       " 'description': \"We started PolitiFact in 2007 with the promise of separating fact from fiction in the spin offered by politicians. We were honored to win journalism's highest honor, the Pulitzer Prize, for our work covering the 2008 presidential election. Since then, we’ve published nearly 10,000 fact-checks and brought our independent accountability journalism to nearly a dozen states. Last year, we launched PunditFact with the help of grants to try to keep TV’s talking heads honest. We have built apps and redesigned our website so you can see our fact-checks better on your iPhone, Android or tablet. We want to keep finding ...\",\n",
       " 'filename': 'http%3A%2F%2Fwww.politifact.com%2Ftruth-o-meter%2Farticle%2F2014%2Fdec%2F31%2Fpolitifact-launches-kickstarter-live-fact-check-20%2F.json',\n",
       " 'image_url': 'https://static.politifact.com/rulings/og/logo-meter.png',\n",
       " 'language': 'en',\n",
       " 'localpath': None,\n",
       " 'source_domain': 'www.politifact.com',\n",
       " 'text': \"We started PolitiFact in 2007 with the promise of separating fact from fiction in the spin offered by politicians. We were honored to win journalism's highest honor, the Pulitzer Prize, for our work covering the 2008 presidential election.\\nSince then, we’ve published nearly 10,000 fact-checks and brought our independent accountability journalism to nearly a dozen states. Last year, we launched PunditFact with the help of grants to try to keep TV’s talking heads honest.\\nWe have built apps and redesigned our website so you can see our fact-checks better on your iPhone, Android or tablet. We want to keep finding ways to innovate, and for the first time, we’re asking for your help.\\nWe’re hoping to raise $15,000 through Kickstarter to cover the 2015 State of the Union and Republican response. Our work can be time intensive (we once spent six weeks on a fact-check about Marco Rubio’s time in the Florida House) and on a night like the State of the Union, it requires all hands on deck. Specifically, we want to attempt two things we’ve never tried before.\\nSUPPORT OUR KICKSTARTER HERE .\\nFirst, we want to provide instant, live fact-checking for President Barack Obama’s 2015 State of the Union and the Republican response. By funding a team of 10 journalists, you’ll get rapid-fire, objective, authoritative analysis of Obama’s address. The fact-checks will come through a live blog that will include video and text of Obama’s speech.\\nSecond, you’ll also get an annotated version of the speech by the next morning. It will go into even deeper detail on Obama’s every word.\\nAnd we’ll do the same for the Republicans. Wondering if something Obama said was true, or if the criticism from Republicans is warranted?\\nWith your funding, we can provide answers in near real-time.\\nYou also have the chance to get rewards, including a PolitiFact coffee mug and a limited edition Pants on Fire button.\\nFor $100, we’ll even let you pick a claim that we’ll fact-check.\\nThe speeches are Jan. 20, 2015, so we don’t have a lot of time. Please consider donating today. Thanks.\",\n",
       " 'title': 'PolitiFact launches Kickstarter to live fact-check the 2015 State of the Union',\n",
       " 'title_page': None,\n",
       " 'title_rss': None,\n",
       " 'url': 'http://www.politifact.com/truth-o-meter/article/2014/dec/31/politifact-launches-kickstarter-live-fact-check-20/'}"
      ]
     },
     "execution_count": 39,
     "metadata": {},
     "output_type": "execute_result"
    }
   ],
   "source": [
    "news = NewsPlease.from_url(data.url[5], timeout=5)\n",
    "news.get_serializable_dict()"
   ]
  },
  {
   "cell_type": "code",
   "execution_count": null,
   "metadata": {
    "scrolled": true
   },
   "outputs": [],
   "source": [
    "def get_data(row):\n",
    "    try:\n",
    "        if row.url is not None and not row.url.endswith('.pdf'):\n",
    "            news = NewsPlease.from_url(row.url, timeout=5)\n",
    "            return news.get_serializable_dict()\n",
    "    except Exception as e:\n",
    "        return None\n",
    "\n",
    "\n",
    "data['article_data'] = data.progress_apply(lambda x: get_data(x), axis=1)"
   ]
  },
  {
   "cell_type": "code",
   "execution_count": 42,
   "metadata": {},
   "outputs": [],
   "source": [
    "data.to_pickle(DATA_DIR+'Article_data_2016/'+ 'article_data_2016_with_text.pkl')"
   ]
  },
  {
   "cell_type": "code",
   "execution_count": 43,
   "metadata": {},
   "outputs": [
    {
     "data": {
      "text/html": [
       "<div>\n",
       "<style scoped>\n",
       "    .dataframe tbody tr th:only-of-type {\n",
       "        vertical-align: middle;\n",
       "    }\n",
       "\n",
       "    .dataframe tbody tr th {\n",
       "        vertical-align: top;\n",
       "    }\n",
       "\n",
       "    .dataframe thead th {\n",
       "        text-align: right;\n",
       "    }\n",
       "</style>\n",
       "<table border=\"1\" class=\"dataframe\">\n",
       "  <thead>\n",
       "    <tr style=\"text-align: right;\">\n",
       "      <th></th>\n",
       "      <th>id</th>\n",
       "      <th>num_comments</th>\n",
       "      <th>score</th>\n",
       "      <th>subreddit</th>\n",
       "      <th>subreddit_subscribers</th>\n",
       "      <th>title</th>\n",
       "      <th>url</th>\n",
       "      <th>article_data</th>\n",
       "    </tr>\n",
       "  </thead>\n",
       "  <tbody>\n",
       "    <tr>\n",
       "      <th>0</th>\n",
       "      <td>2qysnm</td>\n",
       "      <td>1</td>\n",
       "      <td>1</td>\n",
       "      <td>politics</td>\n",
       "      <td>NaN</td>\n",
       "      <td>How 21st century capitalism is failing us</td>\n",
       "      <td>http://www.bmj.com/content/349/bmj.g7516</td>\n",
       "      <td>{'authors': ['Richard Wilkinson', 'University ...</td>\n",
       "    </tr>\n",
       "    <tr>\n",
       "      <th>1</th>\n",
       "      <td>2qytdc</td>\n",
       "      <td>3</td>\n",
       "      <td>6</td>\n",
       "      <td>politics</td>\n",
       "      <td>NaN</td>\n",
       "      <td>Separating himself from much of the emerging R...</td>\n",
       "      <td>http://bigstory.ap.org/article/2962678ccb644d4...</td>\n",
       "      <td>{'authors': [], 'date_download': '2019-06-20 0...</td>\n",
       "    </tr>\n",
       "    <tr>\n",
       "      <th>2</th>\n",
       "      <td>2qytuh</td>\n",
       "      <td>1</td>\n",
       "      <td>19</td>\n",
       "      <td>politics</td>\n",
       "      <td>NaN</td>\n",
       "      <td>Money and Politics: The Most Undercovered Stor...</td>\n",
       "      <td>http://billmoyers.com/2014/12/31/money-politic...</td>\n",
       "      <td>{'authors': [], 'date_download': '2019-06-20 0...</td>\n",
       "    </tr>\n",
       "    <tr>\n",
       "      <th>3</th>\n",
       "      <td>2qyu5j</td>\n",
       "      <td>1</td>\n",
       "      <td>5</td>\n",
       "      <td>politics</td>\n",
       "      <td>NaN</td>\n",
       "      <td>Gov. O’Malley to commute sentences of Maryland...</td>\n",
       "      <td>http://www.washingtonpost.com/local/md-politic...</td>\n",
       "      <td>None</td>\n",
       "    </tr>\n",
       "    <tr>\n",
       "      <th>4</th>\n",
       "      <td>2qyu95</td>\n",
       "      <td>1</td>\n",
       "      <td>1</td>\n",
       "      <td>politics</td>\n",
       "      <td>NaN</td>\n",
       "      <td>More Louisiana Republicans Blame Obama For Hur...</td>\n",
       "      <td>http://www.huffingtonpost.com/2013/08/21/obama...</td>\n",
       "      <td>{'authors': ['Politics Reporter', 'The Huffing...</td>\n",
       "    </tr>\n",
       "  </tbody>\n",
       "</table>\n",
       "</div>"
      ],
      "text/plain": [
       "       id num_comments score subreddit subreddit_subscribers  \\\n",
       "0  2qysnm            1     1  politics                   NaN   \n",
       "1  2qytdc            3     6  politics                   NaN   \n",
       "2  2qytuh            1    19  politics                   NaN   \n",
       "3  2qyu5j            1     5  politics                   NaN   \n",
       "4  2qyu95            1     1  politics                   NaN   \n",
       "\n",
       "                                               title  \\\n",
       "0          How 21st century capitalism is failing us   \n",
       "1  Separating himself from much of the emerging R...   \n",
       "2  Money and Politics: The Most Undercovered Stor...   \n",
       "3  Gov. O’Malley to commute sentences of Maryland...   \n",
       "4  More Louisiana Republicans Blame Obama For Hur...   \n",
       "\n",
       "                                                 url  \\\n",
       "0           http://www.bmj.com/content/349/bmj.g7516   \n",
       "1  http://bigstory.ap.org/article/2962678ccb644d4...   \n",
       "2  http://billmoyers.com/2014/12/31/money-politic...   \n",
       "3  http://www.washingtonpost.com/local/md-politic...   \n",
       "4  http://www.huffingtonpost.com/2013/08/21/obama...   \n",
       "\n",
       "                                        article_data  \n",
       "0  {'authors': ['Richard Wilkinson', 'University ...  \n",
       "1  {'authors': [], 'date_download': '2019-06-20 0...  \n",
       "2  {'authors': [], 'date_download': '2019-06-20 0...  \n",
       "3                                               None  \n",
       "4  {'authors': ['Politics Reporter', 'The Huffing...  "
      ]
     },
     "execution_count": 43,
     "metadata": {},
     "output_type": "execute_result"
    }
   ],
   "source": [
    "data.head()"
   ]
  }
 ],
 "metadata": {
  "kernelspec": {
   "display_name": "Python 3",
   "language": "python",
   "name": "python3"
  },
  "language_info": {
   "codemirror_mode": {
    "name": "ipython",
    "version": 3
   },
   "file_extension": ".py",
   "mimetype": "text/x-python",
   "name": "python",
   "nbconvert_exporter": "python",
   "pygments_lexer": "ipython3",
   "version": "3.7.3"
  }
 },
 "nbformat": 4,
 "nbformat_minor": 2
}
