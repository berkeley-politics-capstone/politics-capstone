{
 "cells": [
  {
   "cell_type": "code",
   "execution_count": 120,
   "metadata": {},
   "outputs": [
    {
     "name": "stderr",
     "output_type": "stream",
     "text": [
      "[nltk_data] Downloading package punkt to /Users/kippy/nltk_data...\n",
      "[nltk_data]   Package punkt is already up-to-date!\n"
     ]
    }
   ],
   "source": [
    "import seaborn as sns\n",
    "import matplotlib.pylab as plt\n",
    "import matplotlib.dates as mdates\n",
    "import os\n",
    "import json\n",
    "import ast\n",
    "import pandas as pd\n",
    "from urllib.parse import urlparse\n",
    "import numpy as np\n",
    "from urllib.parse import urlparse\n",
    "import nltk\n",
    "nltk.download('punkt')\n",
    "\n",
    "import warnings\n",
    "warnings.filterwarnings('ignore')\n",
    "\n",
    "from tqdm._tqdm_notebook import tqdm_notebook as tqdm\n",
    "tqdm.pandas()\n",
    "\n",
    "\n",
    "DATA_DIRECTORY = '../../data/reddit/Article_data_2019/'\n",
    "candidates = [ \"TRUMP\", \"SANDERS\",\"DELANEY\",\"WARREN\",\"HARRIS\",\"GILLIBRAND\",\"O'ROURKE\",\"KLOBUCHAR\",\"BOOKER\",\n",
    "    \"BUTTIGIEG\",\"GABBARD\",\"YANG\",\"INSLEE\",\"HICKENLOOPER\",\"WILLIAMSON\",\"CASTRO\",\"BIDEN\", \"SWALWELL\",\n",
    "    \"DE BLASIO\", \"BENNET\"]\n",
    "candidates = set([x.lower() for x in candidates])"
   ]
  },
  {
   "cell_type": "markdown",
   "metadata": {},
   "source": [
    "#### Process Reddit Data"
   ]
  },
  {
   "cell_type": "code",
   "execution_count": 20,
   "metadata": {},
   "outputs": [],
   "source": [
    "PICKLE_NAME = DATA_DIRECTORY + \"reddit_2019_06_15_with_article_text.pkl\"\n",
    "df = pd.read_pickle(PICKLE_NAME)\n",
    "dates_df = pd.read_pickle(DATA_DIRECTORY+'reddit_2019_dates.pkl')\n",
    "df = df.merge(dates_df, how='left', on='id')"
   ]
  },
  {
   "cell_type": "code",
   "execution_count": 21,
   "metadata": {},
   "outputs": [
    {
     "data": {
      "application/vnd.jupyter.widget-view+json": {
       "model_id": "1940a930f9924193a176a8ea4238d79e",
       "version_major": 2,
       "version_minor": 0
      },
      "text/plain": [
       "HBox(children=(IntProgress(value=0, max=121986), HTML(value='')))"
      ]
     },
     "metadata": {},
     "output_type": "display_data"
    },
    {
     "name": "stdout",
     "output_type": "stream",
     "text": [
      "\n"
     ]
    }
   ],
   "source": [
    "# Flatten the news dictionary\n",
    "clean_df = pd.concat( [df.drop(['article_data'],axis=1), df['article_data'].progress_apply(pd.Series)]\n",
    "                      ,axis = 1)\n",
    "clean_df.drop(0, axis = 1, inplace=True)\n",
    "\n",
    "\n",
    "def df_column_uniquify(df):\n",
    "    df_columns = df.columns\n",
    "    new_columns = []\n",
    "    for item in df_columns:\n",
    "        counter = 0\n",
    "        newitem = item\n",
    "        while newitem in new_columns:\n",
    "            counter += 1\n",
    "            newitem = \"{}_{}\".format(item, counter)\n",
    "        new_columns.append(newitem)\n",
    "    df.columns = new_columns\n",
    "    return df\n",
    "\n",
    "clean_df = df_column_uniquify(clean_df)"
   ]
  },
  {
   "cell_type": "code",
   "execution_count": 22,
   "metadata": {},
   "outputs": [
    {
     "name": "stdout",
     "output_type": "stream",
     "text": [
      "(121986, 23)\n",
      "(82018, 23)\n",
      "(64581, 23)\n"
     ]
    }
   ],
   "source": [
    "print(clean_df.shape)\n",
    "print(clean_df[(~clean_df['title_1'].isnull()) & (~clean_df['text'].isnull())].shape)\n",
    "print(clean_df[(~clean_df['title_1'].isnull()) & (~clean_df['text'].isnull())].drop_duplicates('url').shape)"
   ]
  },
  {
   "cell_type": "code",
   "execution_count": 23,
   "metadata": {},
   "outputs": [
    {
     "data": {
      "application/vnd.jupyter.widget-view+json": {
       "model_id": "1f33d8fecc3742e4addb8111063cf6b8",
       "version_major": 2,
       "version_minor": 0
      },
      "text/plain": [
       "HBox(children=(IntProgress(value=0, max=64581), HTML(value='')))"
      ]
     },
     "metadata": {},
     "output_type": "display_data"
    },
    {
     "name": "stdout",
     "output_type": "stream",
     "text": [
      "\n"
     ]
    },
    {
     "data": {
      "application/vnd.jupyter.widget-view+json": {
       "model_id": "cc0eef3466984cd2b1badb215d693385",
       "version_major": 2,
       "version_minor": 0
      },
      "text/plain": [
       "HBox(children=(IntProgress(value=0, max=64581), HTML(value='')))"
      ]
     },
     "metadata": {},
     "output_type": "display_data"
    },
    {
     "name": "stdout",
     "output_type": "stream",
     "text": [
      "\n"
     ]
    },
    {
     "data": {
      "application/vnd.jupyter.widget-view+json": {
       "model_id": "2bb6ae024d444402b87d8297602b8e90",
       "version_major": 2,
       "version_minor": 0
      },
      "text/plain": [
       "HBox(children=(IntProgress(value=0, max=64581), HTML(value='')))"
      ]
     },
     "metadata": {},
     "output_type": "display_data"
    },
    {
     "name": "stdout",
     "output_type": "stream",
     "text": [
      "\n"
     ]
    },
    {
     "data": {
      "application/vnd.jupyter.widget-view+json": {
       "model_id": "19202a654cd94b5cb7ee4ebf1a67d4e8",
       "version_major": 2,
       "version_minor": 0
      },
      "text/plain": [
       "HBox(children=(IntProgress(value=0, max=64581), HTML(value='')))"
      ]
     },
     "metadata": {},
     "output_type": "display_data"
    },
    {
     "name": "stdout",
     "output_type": "stream",
     "text": [
      "\n"
     ]
    },
    {
     "data": {
      "application/vnd.jupyter.widget-view+json": {
       "model_id": "7346b765db28472ab36afd7f58bf8b48",
       "version_major": 2,
       "version_minor": 0
      },
      "text/plain": [
       "HBox(children=(IntProgress(value=0, max=64581), HTML(value='')))"
      ]
     },
     "metadata": {},
     "output_type": "display_data"
    },
    {
     "name": "stdout",
     "output_type": "stream",
     "text": [
      "\n"
     ]
    }
   ],
   "source": [
    "# remove nulls, \n",
    "clean_df = clean_df[(~clean_df['title_1'].isnull()) & (~clean_df['text'].isnull())]\n",
    "clean_df = clean_df.drop_duplicates('url')\n",
    "clean_df[\"title_tokenized\"] = clean_df.progress_apply(lambda x: [token.lower() for token in nltk.word_tokenize(x.title)]\n",
    "                                                      , axis = 1)\n",
    "clean_df[\"text_tokenized\"] = clean_df.progress_apply(lambda x: [token.lower() for token in nltk.word_tokenize(x.text)]\n",
    "                                                     , axis = 1)\n",
    "clean_df[\"domain\"] = clean_df.progress_apply(lambda x: urlparse(x.url).netloc, axis = 1)\n",
    "clean_df['candidate_title'] = clean_df.progress_apply(lambda x: candidates.intersection(x.title_tokenized), axis=1)\n",
    "clean_df['candidate_text'] = clean_df.progress_apply(lambda x: candidates.intersection(x.text_tokenized), axis=1)"
   ]
  },
  {
   "cell_type": "markdown",
   "metadata": {},
   "source": [
    "Donations Data"
   ]
  },
  {
   "cell_type": "code",
   "execution_count": 119,
   "metadata": {},
   "outputs": [],
   "source": [
    "# find the path to each fec file, store paths in a nested dict\n",
    "fec_2020_paths = {}\n",
    "base_path = os.path.join(\"../../\",\"data\",\"fec\",\"2020\")\n",
    "for party_dir in os.listdir(base_path):\n",
    "    if(party_dir[0]!=\".\"):\n",
    "        fec_2020_paths[party_dir] = {}\n",
    "        for cand_dir in os.listdir(os.path.join(base_path,party_dir)):\n",
    "            if(cand_dir[0]!=\".\"):\n",
    "                fec_2020_paths[party_dir][cand_dir] = {}\n",
    "                for csv_path in os.listdir(os.path.join(base_path,party_dir,cand_dir)):\n",
    "                    if(csv_path.find(\"schedule_a\")>=0):\n",
    "                        fec_2020_paths[party_dir][cand_dir][\"donations\"] = \\\n",
    "                            os.path.join(base_path,party_dir,cand_dir,csv_path)\n",
    "                    elif(csv_path.find(\"schedule_b\")>=0):\n",
    "                        fec_2020_paths[party_dir][cand_dir][\"spending\"] = \\\n",
    "                            os.path.join(base_path,party_dir,cand_dir,csv_path)"
   ]
  },
  {
   "cell_type": "code",
   "execution_count": 121,
   "metadata": {},
   "outputs": [
    {
     "data": {
      "text/plain": [
       "{'republican': {'trump': {'spending': '../../data/fec/2020/republican/trump/schedule_b-2019-05-30T16_03_37.csv',\n",
       "   'donations': '../../data/fec/2020/republican/trump/schedule_a-2019-05-30T16_03_37.csv'}},\n",
       " 'democrat': {'williamson': {'spending': '../../data/fec/2020/democrat/williamson/schedule_b-2019-05-30T20_41_44.csv',\n",
       "   'donations': '../../data/fec/2020/democrat/williamson/schedule_a-2019-05-30T20_41_32.csv'},\n",
       "  'harris': {'spending': '../../data/fec/2020/democrat/harris/schedule_b-2019-05-30T17_22_09.csv',\n",
       "   'donations': '../../data/fec/2020/democrat/harris/schedule_a-2019-05-30T17_19_58.csv'},\n",
       "  'buttigieg': {'donations': '../../data/fec/2020/democrat/buttigieg/schedule_a-2019-05-30T17_32_11.csv',\n",
       "   'spending': '../../data/fec/2020/democrat/buttigieg/schedule_b-2019-05-30T17_32_14.csv'},\n",
       "  'klobuchar': {'spending': '../../data/fec/2020/democrat/klobuchar/schedule_b-2019-05-30T17_28_05.csv',\n",
       "   'donations': '../../data/fec/2020/democrat/klobuchar/schedule_a-2019-05-30T17_26_34.csv'},\n",
       "  'yang': {'donations': '../../data/fec/2020/democrat/yang/schedule_a-2019-05-30T17_36_18.csv',\n",
       "   'spending': '../../data/fec/2020/democrat/yang/schedule_b-2019-05-30T17_36_30.csv'},\n",
       "  'gillibrand': {'donations': '../../data/fec/2020/democrat/gillibrand/schedule_a-2019-05-30T17_22_03.csv',\n",
       "   'spending': '../../data/fec/2020/democrat/gillibrand/schedule_b-2019-05-30T17_25_26.csv'},\n",
       "  'delaney': {'spending': '../../data/fec/2020/democrat/delaney/schedule_b-2019-05-30T17_11_01.csv',\n",
       "   'donations': '../../data/fec/2020/democrat/delaney/schedule_a-2019-05-30T17_10_21.csv'},\n",
       "  'inslee': {'spending': '../../data/fec/2020/democrat/inslee/schedule_b-2019-05-30T17_39_27.csv',\n",
       "   'donations': '../../data/fec/2020/democrat/inslee/schedule_a-2019-05-30T17_39_13.csv'},\n",
       "  'hickenlooper': {'spending': '../../data/fec/2020/democrat/hickenlooper/schedule_b-2019-05-30T20_40_10.csv',\n",
       "   'donations': '../../data/fec/2020/democrat/hickenlooper/schedule_a-2019-05-30T17_42_20.csv'},\n",
       "  'orourke': {'donations': '../../data/fec/2020/democrat/orourke/schedule_a-2019-05-30T17_25_21.csv',\n",
       "   'spending': '../../data/fec/2020/democrat/orourke/schedule_b-2019-05-30T17_26_40.csv'},\n",
       "  'warren': {'spending': '../../data/fec/2020/democrat/warren/schedule_b-2019-05-30T17_20_23.csv',\n",
       "   'donations': '../../data/fec/2020/democrat/warren/schedule_a-2019-05-30T17_19_58.csv'},\n",
       "  'castro': {'donations': '../../data/fec/2020/democrat/castro/schedule_a-2019-05-30T20_42_42.csv',\n",
       "   'spending': '../../data/fec/2020/democrat/castro/schedule_b-2019-05-30T20_42_54.csv'},\n",
       "  'sanders': {'spending': '../../data/fec/2020/democrat/sanders/schedule_b-2019-05-30T17_06_38.csv',\n",
       "   'donations': '../../data/fec/2020/democrat/sanders/schedule_a-2019-05-30T17_07_08.csv'},\n",
       "  'gabbard': {'spending': '../../data/fec/2020/democrat/gabbard/schedule_b-2019-05-30T17_33_24.csv',\n",
       "   'donations': '../../data/fec/2020/democrat/gabbard/schedule_a-2019-05-30T17_33_22.csv'},\n",
       "  'booker': {'spending': '../../data/fec/2020/democrat/booker/schedule_b-2019-05-30T17_29_42.csv',\n",
       "   'donations': '../../data/fec/2020/democrat/booker/schedule_a-2019-05-30T17_30_40.csv'}}}"
      ]
     },
     "execution_count": 121,
     "metadata": {},
     "output_type": "execute_result"
    }
   ],
   "source": [
    "fec_2020_paths"
   ]
  },
  {
   "cell_type": "code",
   "execution_count": 138,
   "metadata": {},
   "outputs": [
    {
     "data": {
      "text/plain": [
       "Index(['committee_id', 'committee_name', 'report_year', 'report_type',\n",
       "       'image_number', 'line_number', 'transaction_id', 'file_number',\n",
       "       'committee_name.1', 'entity_type', 'entity_type_desc',\n",
       "       'unused_contbr_id', 'contributor_prefix', 'contributor_name',\n",
       "       'recipient_committee_type', 'contributor_first_name',\n",
       "       'contributor_middle_name', 'contributor_last_name',\n",
       "       'contributor_suffix', 'contributor_street_1', 'contributor_street_2',\n",
       "       'contributor_city', 'contributor_state', 'contributor_zip',\n",
       "       'contributor_employer', 'contributor_occupation', 'contributor_id',\n",
       "       'receipt_type', 'receipt_type_desc', 'receipt_type_full', 'memo_code',\n",
       "       'memo_code_full', 'contribution_receipt_date',\n",
       "       'contribution_receipt_amount', 'contributor_aggregate_ytd',\n",
       "       'candidate_id', 'candidate_name', 'candidate_first_name',\n",
       "       'candidate_last_name', 'candidate_middle_name', 'candidate_prefix',\n",
       "       'candidate_suffix', 'candidate_office', 'candidate_office_full',\n",
       "       'candidate_office_state', 'candidate_office_state_full',\n",
       "       'candidate_office_district', 'conduit_committee_id',\n",
       "       'conduit_committee_name', 'conduit_committee_street1',\n",
       "       'conduit_committee_street2', 'conduit_committee_city',\n",
       "       'conduit_committee_state', 'conduit_committee_zip',\n",
       "       'donor_committee_name', 'national_committee_nonfederal_account',\n",
       "       'election_type', 'election_type_full', 'fec_election_type_desc',\n",
       "       'fec_election_year', 'amendment_indicator', 'amendment_indicator_desc',\n",
       "       'schedule_type_full', 'load_date', 'original_sub_id',\n",
       "       'back_reference_transaction_id', 'back_reference_schedule_name',\n",
       "       'filing_form', 'link_id', 'is_individual', 'memo_text',\n",
       "       'two_year_transaction_period', 'schedule_type', 'increased_limit',\n",
       "       'sub_id', 'pdf_url', 'line_number_label', 'day'],\n",
       "      dtype='object')"
      ]
     },
     "execution_count": 138,
     "metadata": {},
     "output_type": "execute_result"
    }
   ],
   "source": [
    "donate_df.columns"
   ]
  },
  {
   "cell_type": "code",
   "execution_count": 139,
   "metadata": {},
   "outputs": [],
   "source": [
    "def make_ts(candidate, paths, party):\n",
    "    reddit_df = clean_df[clean_df.apply(lambda x: candidate in x.candidate_text, axis=1)]\n",
    "    reddit_df['count'] = 1\n",
    "    reddit_df = reddit_df[~reddit_df['created_utc'].isnull()]\n",
    "    reddit_df['day'] = reddit_df['created_utc'].dt.round('D')\n",
    "    \n",
    "    if(\"donations\" in paths[party][candidate].keys()):\n",
    "            donate_df = pd.read_csv(paths[party][candidate][\"donations\"])\n",
    "            donate_df['count'] = 1\n",
    "            donate_df[\"contribution_receipt_date\"] = pd.to_datetime(donate_df[\"contribution_receipt_date\"])\n",
    "            donate_df[\"day\"] = donate_df[\"contribution_receipt_date\"]\n",
    "            ts = donate_df.groupby(by=\"day\")[\"count\"].sum().to_frame()\n",
    "            \n",
    "    reddit_ts = reddit_df.fillna(0)[['day', 'score', 'num_comments', 'count']].groupby(['day']).agg('sum')\n",
    "    return ts.join(reddit_ts, how='outer').fillna(0)\n",
    "    "
   ]
  },
  {
   "cell_type": "code",
   "execution_count": 140,
   "metadata": {},
   "outputs": [
    {
     "ename": "ValueError",
     "evalue": "columns overlap but no suffix specified: Index(['count'], dtype='object')",
     "output_type": "error",
     "traceback": [
      "\u001b[0;31m---------------------------------------------------------------------------\u001b[0m",
      "\u001b[0;31mValueError\u001b[0m                                Traceback (most recent call last)",
      "\u001b[0;32m<ipython-input-140-e3e33817d9cb>\u001b[0m in \u001b[0;36m<module>\u001b[0;34m\u001b[0m\n\u001b[1;32m      1\u001b[0m \u001b[0mcandidate_dfs\u001b[0m \u001b[0;34m=\u001b[0m \u001b[0mdict\u001b[0m\u001b[0;34m(\u001b[0m\u001b[0;34m)\u001b[0m\u001b[0;34m\u001b[0m\u001b[0;34m\u001b[0m\u001b[0m\n\u001b[1;32m      2\u001b[0m \u001b[0;32mfor\u001b[0m \u001b[0mcandidate\u001b[0m \u001b[0;32min\u001b[0m \u001b[0mfec_2020_paths\u001b[0m\u001b[0;34m[\u001b[0m\u001b[0;34m'democrat'\u001b[0m\u001b[0;34m]\u001b[0m\u001b[0;34m.\u001b[0m\u001b[0mkeys\u001b[0m\u001b[0;34m(\u001b[0m\u001b[0;34m)\u001b[0m\u001b[0;34m:\u001b[0m\u001b[0;34m\u001b[0m\u001b[0;34m\u001b[0m\u001b[0m\n\u001b[0;32m----> 3\u001b[0;31m     \u001b[0mcandidate_dfs\u001b[0m\u001b[0;34m[\u001b[0m\u001b[0mcandidate\u001b[0m\u001b[0;34m]\u001b[0m \u001b[0;34m=\u001b[0m \u001b[0mmake_ts\u001b[0m\u001b[0;34m(\u001b[0m\u001b[0mcandidate\u001b[0m\u001b[0;34m,\u001b[0m \u001b[0mfec_2020_paths\u001b[0m\u001b[0;34m,\u001b[0m \u001b[0;34m'democrat'\u001b[0m\u001b[0;34m)\u001b[0m\u001b[0;34m\u001b[0m\u001b[0;34m\u001b[0m\u001b[0m\n\u001b[0m",
      "\u001b[0;32m<ipython-input-139-1ddba7493dee>\u001b[0m in \u001b[0;36mmake_ts\u001b[0;34m(candidate, paths, party)\u001b[0m\n\u001b[1;32m     13\u001b[0m \u001b[0;34m\u001b[0m\u001b[0m\n\u001b[1;32m     14\u001b[0m     \u001b[0mreddit_ts\u001b[0m \u001b[0;34m=\u001b[0m \u001b[0mreddit_df\u001b[0m\u001b[0;34m.\u001b[0m\u001b[0mfillna\u001b[0m\u001b[0;34m(\u001b[0m\u001b[0;36m0\u001b[0m\u001b[0;34m)\u001b[0m\u001b[0;34m[\u001b[0m\u001b[0;34m[\u001b[0m\u001b[0;34m'day'\u001b[0m\u001b[0;34m,\u001b[0m \u001b[0;34m'score'\u001b[0m\u001b[0;34m,\u001b[0m \u001b[0;34m'num_comments'\u001b[0m\u001b[0;34m,\u001b[0m \u001b[0;34m'count'\u001b[0m\u001b[0;34m]\u001b[0m\u001b[0;34m]\u001b[0m\u001b[0;34m.\u001b[0m\u001b[0mgroupby\u001b[0m\u001b[0;34m(\u001b[0m\u001b[0;34m[\u001b[0m\u001b[0;34m'day'\u001b[0m\u001b[0;34m]\u001b[0m\u001b[0;34m)\u001b[0m\u001b[0;34m.\u001b[0m\u001b[0magg\u001b[0m\u001b[0;34m(\u001b[0m\u001b[0;34m'sum'\u001b[0m\u001b[0;34m)\u001b[0m\u001b[0;34m\u001b[0m\u001b[0;34m\u001b[0m\u001b[0m\n\u001b[0;32m---> 15\u001b[0;31m     \u001b[0;32mreturn\u001b[0m \u001b[0mts\u001b[0m\u001b[0;34m.\u001b[0m\u001b[0mjoin\u001b[0m\u001b[0;34m(\u001b[0m\u001b[0mreddit_ts\u001b[0m\u001b[0;34m,\u001b[0m \u001b[0mhow\u001b[0m\u001b[0;34m=\u001b[0m\u001b[0;34m'outer'\u001b[0m\u001b[0;34m)\u001b[0m\u001b[0;34m.\u001b[0m\u001b[0mfillna\u001b[0m\u001b[0;34m(\u001b[0m\u001b[0;36m0\u001b[0m\u001b[0;34m)\u001b[0m\u001b[0;34m\u001b[0m\u001b[0;34m\u001b[0m\u001b[0m\n\u001b[0m\u001b[1;32m     16\u001b[0m \u001b[0;34m\u001b[0m\u001b[0m\n",
      "\u001b[0;32m/usr/local/lib/python3.7/site-packages/pandas/core/frame.py\u001b[0m in \u001b[0;36mjoin\u001b[0;34m(self, other, on, how, lsuffix, rsuffix, sort)\u001b[0m\n\u001b[1;32m   6813\u001b[0m         \u001b[0;31m# For SparseDataFrame's benefit\u001b[0m\u001b[0;34m\u001b[0m\u001b[0;34m\u001b[0m\u001b[0;34m\u001b[0m\u001b[0m\n\u001b[1;32m   6814\u001b[0m         return self._join_compat(other, on=on, how=how, lsuffix=lsuffix,\n\u001b[0;32m-> 6815\u001b[0;31m                                  rsuffix=rsuffix, sort=sort)\n\u001b[0m\u001b[1;32m   6816\u001b[0m \u001b[0;34m\u001b[0m\u001b[0m\n\u001b[1;32m   6817\u001b[0m     def _join_compat(self, other, on=None, how='left', lsuffix='', rsuffix='',\n",
      "\u001b[0;32m/usr/local/lib/python3.7/site-packages/pandas/core/frame.py\u001b[0m in \u001b[0;36m_join_compat\u001b[0;34m(self, other, on, how, lsuffix, rsuffix, sort)\u001b[0m\n\u001b[1;32m   6828\u001b[0m             return merge(self, other, left_on=on, how=how,\n\u001b[1;32m   6829\u001b[0m                          \u001b[0mleft_index\u001b[0m\u001b[0;34m=\u001b[0m\u001b[0mon\u001b[0m \u001b[0;32mis\u001b[0m \u001b[0;32mNone\u001b[0m\u001b[0;34m,\u001b[0m \u001b[0mright_index\u001b[0m\u001b[0;34m=\u001b[0m\u001b[0;32mTrue\u001b[0m\u001b[0;34m,\u001b[0m\u001b[0;34m\u001b[0m\u001b[0;34m\u001b[0m\u001b[0m\n\u001b[0;32m-> 6830\u001b[0;31m                          suffixes=(lsuffix, rsuffix), sort=sort)\n\u001b[0m\u001b[1;32m   6831\u001b[0m         \u001b[0;32melse\u001b[0m\u001b[0;34m:\u001b[0m\u001b[0;34m\u001b[0m\u001b[0;34m\u001b[0m\u001b[0m\n\u001b[1;32m   6832\u001b[0m             \u001b[0;32mif\u001b[0m \u001b[0mon\u001b[0m \u001b[0;32mis\u001b[0m \u001b[0;32mnot\u001b[0m \u001b[0;32mNone\u001b[0m\u001b[0;34m:\u001b[0m\u001b[0;34m\u001b[0m\u001b[0;34m\u001b[0m\u001b[0m\n",
      "\u001b[0;32m/usr/local/lib/python3.7/site-packages/pandas/core/reshape/merge.py\u001b[0m in \u001b[0;36mmerge\u001b[0;34m(left, right, how, on, left_on, right_on, left_index, right_index, sort, suffixes, copy, indicator, validate)\u001b[0m\n\u001b[1;32m     46\u001b[0m                          \u001b[0mcopy\u001b[0m\u001b[0;34m=\u001b[0m\u001b[0mcopy\u001b[0m\u001b[0;34m,\u001b[0m \u001b[0mindicator\u001b[0m\u001b[0;34m=\u001b[0m\u001b[0mindicator\u001b[0m\u001b[0;34m,\u001b[0m\u001b[0;34m\u001b[0m\u001b[0;34m\u001b[0m\u001b[0m\n\u001b[1;32m     47\u001b[0m                          validate=validate)\n\u001b[0;32m---> 48\u001b[0;31m     \u001b[0;32mreturn\u001b[0m \u001b[0mop\u001b[0m\u001b[0;34m.\u001b[0m\u001b[0mget_result\u001b[0m\u001b[0;34m(\u001b[0m\u001b[0;34m)\u001b[0m\u001b[0;34m\u001b[0m\u001b[0;34m\u001b[0m\u001b[0m\n\u001b[0m\u001b[1;32m     49\u001b[0m \u001b[0;34m\u001b[0m\u001b[0m\n\u001b[1;32m     50\u001b[0m \u001b[0;34m\u001b[0m\u001b[0m\n",
      "\u001b[0;32m/usr/local/lib/python3.7/site-packages/pandas/core/reshape/merge.py\u001b[0m in \u001b[0;36mget_result\u001b[0;34m(self)\u001b[0m\n\u001b[1;32m    550\u001b[0m \u001b[0;34m\u001b[0m\u001b[0m\n\u001b[1;32m    551\u001b[0m         llabels, rlabels = items_overlap_with_suffix(ldata.items, lsuf,\n\u001b[0;32m--> 552\u001b[0;31m                                                      rdata.items, rsuf)\n\u001b[0m\u001b[1;32m    553\u001b[0m \u001b[0;34m\u001b[0m\u001b[0m\n\u001b[1;32m    554\u001b[0m         \u001b[0mlindexers\u001b[0m \u001b[0;34m=\u001b[0m \u001b[0;34m{\u001b[0m\u001b[0;36m1\u001b[0m\u001b[0;34m:\u001b[0m \u001b[0mleft_indexer\u001b[0m\u001b[0;34m}\u001b[0m \u001b[0;32mif\u001b[0m \u001b[0mleft_indexer\u001b[0m \u001b[0;32mis\u001b[0m \u001b[0;32mnot\u001b[0m \u001b[0;32mNone\u001b[0m \u001b[0;32melse\u001b[0m \u001b[0;34m{\u001b[0m\u001b[0;34m}\u001b[0m\u001b[0;34m\u001b[0m\u001b[0;34m\u001b[0m\u001b[0m\n",
      "\u001b[0;32m/usr/local/lib/python3.7/site-packages/pandas/core/internals/managers.py\u001b[0m in \u001b[0;36mitems_overlap_with_suffix\u001b[0;34m(left, lsuffix, right, rsuffix)\u001b[0m\n\u001b[1;32m   1970\u001b[0m         \u001b[0;32mif\u001b[0m \u001b[0;32mnot\u001b[0m \u001b[0mlsuffix\u001b[0m \u001b[0;32mand\u001b[0m \u001b[0;32mnot\u001b[0m \u001b[0mrsuffix\u001b[0m\u001b[0;34m:\u001b[0m\u001b[0;34m\u001b[0m\u001b[0;34m\u001b[0m\u001b[0m\n\u001b[1;32m   1971\u001b[0m             raise ValueError('columns overlap but no suffix specified: '\n\u001b[0;32m-> 1972\u001b[0;31m                              '{rename}'.format(rename=to_rename))\n\u001b[0m\u001b[1;32m   1973\u001b[0m \u001b[0;34m\u001b[0m\u001b[0m\n\u001b[1;32m   1974\u001b[0m         \u001b[0;32mdef\u001b[0m \u001b[0mlrenamer\u001b[0m\u001b[0;34m(\u001b[0m\u001b[0mx\u001b[0m\u001b[0;34m)\u001b[0m\u001b[0;34m:\u001b[0m\u001b[0;34m\u001b[0m\u001b[0;34m\u001b[0m\u001b[0m\n",
      "\u001b[0;31mValueError\u001b[0m: columns overlap but no suffix specified: Index(['count'], dtype='object')"
     ]
    }
   ],
   "source": [
    "candidate_dfs = dict()\n",
    "for candidate in fec_2020_paths['democrat'].keys():\n",
    "    candidate_dfs[candidate] = make_ts(candidate, fec_2020_paths, 'democrat')"
   ]
  },
  {
   "cell_type": "code",
   "execution_count": 135,
   "metadata": {},
   "outputs": [
    {
     "data": {
      "image/png": "[encoded data removed]",
      "text/plain": [
       "<Figure size 1224x720 with 1 Axes>"
      ]
     },
     "metadata": {},
     "output_type": "display_data"
    }
   ],
   "source": [
    "join_ts = candidate_dfs['harris']\n",
    "df_norm = (join_ts - join_ts.mean()) / join_ts.std()\n",
    "sns.set_style('ticks')\n",
    "ax = df_norm[['contribution_receipt_amount', 'score']].plot(figsize=(17,10), x_compat=True)\n",
    "ax.xaxis.set_major_locator(mdates.WeekdayLocator())\n",
    "ax.xaxis.set_major_formatter(mdates.DateFormatter('%Y-%m-%d'))\n",
    "ax.xaxis.set_minor_locator(mdates.DayLocator())\n",
    "ax.grid()\n",
    "plt.show()"
   ]
  }
 ],
 "metadata": {
  "kernelspec": {
   "display_name": "Python 3",
   "language": "python",
   "name": "python3"
  },
  "language_info": {
   "codemirror_mode": {
    "name": "ipython",
    "version": 3
   },
   "file_extension": ".py",
   "mimetype": "text/x-python",
   "name": "python",
   "nbconvert_exporter": "python",
   "pygments_lexer": "ipython3",
   "version": "3.7.3"
  }
 },
 "nbformat": 4,
 "nbformat_minor": 2
}
