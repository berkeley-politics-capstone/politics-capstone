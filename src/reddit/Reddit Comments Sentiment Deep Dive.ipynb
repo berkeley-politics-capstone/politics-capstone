{
 "cells": [
  {
   "cell_type": "code",
   "execution_count": 4,
   "metadata": {},
   "outputs": [
    {
     "name": "stderr",
     "output_type": "stream",
     "text": [
      "[nltk_data] Downloading package vader_lexicon to\n",
      "[nltk_data]     /Users/kippy/nltk_data...\n",
      "[nltk_data]   Package vader_lexicon is already up-to-date!\n"
     ]
    }
   ],
   "source": [
    "import nltk\n",
    "from nltk.sentiment.vader import SentimentIntensityAnalyzer as SIA\n",
    "from tqdm._tqdm_notebook import tqdm_notebook as tqdm\n",
    "import pandas as pd\n",
    "\n",
    "# nltk downloads\n",
    "nltk.download('vader_lexicon')\n",
    "\n",
    "#initialize tqdm\n",
    "tqdm.pandas()"
   ]
  },
  {
   "cell_type": "code",
   "execution_count": 5,
   "metadata": {},
   "outputs": [],
   "source": [
    "df = pd.read_pickle('../../data/reddit/reddit_2019_comments_clean1.pkl')"
   ]
  },
  {
   "cell_type": "code",
   "execution_count": 8,
   "metadata": {},
   "outputs": [
    {
     "data": {
      "application/vnd.jupyter.widget-view+json": {
       "model_id": "8679c6a8b5ab4fe1a538e54f45edf6d3",
       "version_major": 2,
       "version_minor": 0
      },
      "text/plain": [
       "HBox(children=(IntProgress(value=0, max=514797), HTML(value='')))"
      ]
     },
     "metadata": {},
     "output_type": "display_data"
    },
    {
     "name": "stdout",
     "output_type": "stream",
     "text": [
      "\n"
     ]
    },
    {
     "data": {
      "application/vnd.jupyter.widget-view+json": {
       "model_id": "2af89e1bdae44dbd9354e479f6c44509",
       "version_major": 2,
       "version_minor": 0
      },
      "text/plain": [
       "HBox(children=(IntProgress(value=0, max=514797), HTML(value='')))"
      ]
     },
     "metadata": {},
     "output_type": "display_data"
    },
    {
     "name": "stdout",
     "output_type": "stream",
     "text": [
      "\n"
     ]
    }
   ],
   "source": [
    "df['clean'] = df['clean'].progress_apply(lambda x: x.replace('\\n\\n',' ').replace('\\n',' ').replace('\\'s','s'))\n",
    "sia = SIA()\n",
    "df['sentiment'] = df['clean'].progress_apply(lambda x: sia.polarity_scores(x))"
   ]
  },
  {
   "cell_type": "code",
   "execution_count": 9,
   "metadata": {},
   "outputs": [
    {
     "data": {
      "application/vnd.jupyter.widget-view+json": {
       "model_id": "1eba250ad11740f7b7ceac07abec8090",
       "version_major": 2,
       "version_minor": 0
      },
      "text/plain": [
       "HBox(children=(IntProgress(value=0, max=514797), HTML(value='')))"
      ]
     },
     "metadata": {},
     "output_type": "display_data"
    },
    {
     "name": "stdout",
     "output_type": "stream",
     "text": [
      "\n"
     ]
    }
   ],
   "source": [
    "negative_comment = df[df.progress_apply(lambda x: x.sentiment['compound'] < -0.05, axis=1)]\n",
    "negative_comment.reset_index(inplace=True)"
   ]
  },
  {
   "cell_type": "code",
   "execution_count": 17,
   "metadata": {},
   "outputs": [
    {
     "data": {
      "application/vnd.jupyter.widget-view+json": {
       "model_id": "77a86907107b4e5ea31f1053ea0125e1",
       "version_major": 2,
       "version_minor": 0
      },
      "text/plain": [
       "HBox(children=(IntProgress(value=0, max=514797), HTML(value='')))"
      ]
     },
     "metadata": {},
     "output_type": "display_data"
    },
    {
     "name": "stdout",
     "output_type": "stream",
     "text": [
      "\n"
     ]
    }
   ],
   "source": [
    "positive_comment = df[df.progress_apply(lambda x: x.sentiment['compound'] > 0.05, axis=1)]\n",
    "positive_comment.reset_index(inplace=True)"
   ]
  },
  {
   "cell_type": "code",
   "execution_count": 19,
   "metadata": {},
   "outputs": [
    {
     "name": "stdout",
     "output_type": "stream",
     "text": [
      "sounds tiny bit concern trollish even if you are well meaning and are trying to be positive... warren is a wall street sell out and made money off of the recession... she said she believed in the markets - probably because she makes money either way she has done nothing for the environment and she does not poll well for prez even in her own state she looks like a fool for her dna debacle Bernie Should Be Philosopher King! {'neg': 0.035, 'neu': 0.881, 'pos': 0.084, 'compound': 0.4753}\n",
      "I don't want to vote for old white people who can't relate to our younger generation. Honestly,  the DNC can surely find other qualified people to run. {'neg': 0.041, 'neu': 0.764, 'pos': 0.196, 'compound': 0.6886}\n",
      "He'd never get anywhere as an independent in American two party political climate. {'neg': 0.0, 'neu': 0.816, 'pos': 0.184, 'compound': 0.4019}\n",
      "Who cares, I'm not voting for her {'neg': 0.0, 'neu': 0.667, 'pos': 0.333, 'compound': 0.4588}\n",
      "If you say so. I get the amendment king thing, its just that for a guy whos been in Congress for 3 decades, I just don't see much in the way of effective leadership either in the past or recently. And if polls are any indication right now, there are a few yellow flags for the movement behind him. Not yet big enough to be red flags, but definitely a little worrisome. Again, if I had seen a lot more concrete evidence of a strong progressive movement on a national scale during the midterms, I'd be more inclined to believe you. But as things stand...ehhhh. I think you might be over estimating the movement hes created. {'neg': 0.027, 'neu': 0.865, 'pos': 0.109, 'compound': 0.8569}\n",
      " delegate rich CA I’m sorry but the race was effectively over after NY. third party candidate That none of those “true leftists” you claim to support will vote for.  {'neg': 0.03, 'neu': 0.625, 'pos': 0.345, 'compound': 0.9201}\n",
      "She looks like the kazoo kid from that one video we've all watched out of curiosity.  {'neg': 0.0, 'neu': 0.857, 'pos': 0.143, 'compound': 0.3612}\n",
      "I don't think he should have been expected to be a great congressional leader, with him being ostracized from the rest of the party and being from a very small state and being fringe in terms of the congressional Overton window. But he went beyond those low expectations and spoke out and voted and led on important policies and ideas: Against DOMA, for 90s healthcare reform, against the Iraq War, against the Fed and Alan Greenspan in the 2000s, etc. I just don't think you're not really paying attention and haven't paid attention to what hes done.  As for polls, polls are generally meaningless a year out from the actual primary. But hes shown that he can last through primaries (as opposed to Biden, who can't), and he already has campaign infrastructure and support (email lists, small donors) built up. If he was able to almost beat Hillary god-damn Clinton, he can beat whatever no-name the Establishment throws at him.  As for the midterms, I agree to an extent that anti-establishment progressives didn't get as much headway as we may have wanted. But there was a lot of progress, so frankly I wouldn't worry too much about it. Just means we have to work a little harder.  {'neg': 0.041, 'neu': 0.87, 'pos': 0.089, 'compound': 0.8545}\n",
      "Thats debatable.  But the DNC admitted in court that the primary process is not democratic, and that they can pick whoever they want, from cigar filled backrooms. There is little point running in the Democratic Primary, it isn't a real election.  Running as an independent guarantees a spot in general, and will severely shake up the political system. As long as either a Democrat or a Republican wins, the system for the rich is safe. Thats why the MSM spreads the myth about the \"spoiler vote\".  They're afraid of third parties and independents.  {'neg': 0.046, 'neu': 0.8, 'pos': 0.154, 'compound': 0.872}\n",
      "At this point I feel like we're really just talking in circles here. I just think that a lack of demonstrated confessional leadership, a less than ideal movement behind him, signs of waning interest in him as a candidate, a semi-fraught relationship with the party he'd lead, and a lack of political finesse all add up to a candidate who is just very questionable. And we haven't even gotten into policy. I just don't see it. {'neg': 0.09, 'neu': 0.765, 'pos': 0.144, 'compound': 0.6403}\n"
     ]
    }
   ],
   "source": [
    "for i in range(40, 50):\n",
    "    print(positive_comment.loc[i][['clean', 'sentiment']][0], positive_comment.loc[i][['clean', 'sentiment']][1])"
   ]
  }
 ],
 "metadata": {
  "kernelspec": {
   "display_name": "Python 3",
   "language": "python",
   "name": "python3"
  },
  "language_info": {
   "codemirror_mode": {
    "name": "ipython",
    "version": 3
   },
   "file_extension": ".py",
   "mimetype": "text/x-python",
   "name": "python",
   "nbconvert_exporter": "python",
   "pygments_lexer": "ipython3",
   "version": "3.7.3"
  }
 },
 "nbformat": 4,
 "nbformat_minor": 2
}
