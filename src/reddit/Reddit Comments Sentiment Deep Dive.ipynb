{
 "cells": [
  {
   "cell_type": "code",
   "execution_count": 4,
   "metadata": {},
   "outputs": [
    {
     "name": "stderr",
     "output_type": "stream",
     "text": [
      "[nltk_data] Downloading package vader_lexicon to\n",
      "[nltk_data]     /Users/kippy/nltk_data...\n",
      "[nltk_data]   Package vader_lexicon is already up-to-date!\n"
     ]
    }
   ],
   "source": [
    "import nltk\n",
    "from nltk.sentiment.vader import SentimentIntensityAnalyzer as SIA\n",
    "from tqdm._tqdm_notebook import tqdm_notebook as tqdm\n",
    "import pandas as pd\n",
    "\n",
    "# nltk downloads\n",
    "nltk.download('vader_lexicon')\n",
    "\n",
    "#initialize tqdm\n",
    "tqdm.pandas()"
   ]
  },
  {
   "cell_type": "code",
   "execution_count": 5,
   "metadata": {},
   "outputs": [],
   "source": [
    "df = pd.read_pickle('../../data/reddit/reddit_2019_comments_clean1.pkl')"
   ]
  },
  {
   "cell_type": "code",
   "execution_count": 8,
   "metadata": {},
   "outputs": [
    {
     "data": {
      "application/vnd.jupyter.widget-view+json": {
       "model_id": "8679c6a8b5ab4fe1a538e54f45edf6d3",
       "version_major": 2,
       "version_minor": 0
      },
      "text/plain": [
       "HBox(children=(IntProgress(value=0, max=514797), HTML(value='')))"
      ]
     },
     "metadata": {},
     "output_type": "display_data"
    },
    {
     "name": "stdout",
     "output_type": "stream",
     "text": [
      "\n"
     ]
    },
    {
     "data": {
      "application/vnd.jupyter.widget-view+json": {
       "model_id": "2af89e1bdae44dbd9354e479f6c44509",
       "version_major": 2,
       "version_minor": 0
      },
      "text/plain": [
       "HBox(children=(IntProgress(value=0, max=514797), HTML(value='')))"
      ]
     },
     "metadata": {},
     "output_type": "display_data"
    },
    {
     "name": "stdout",
     "output_type": "stream",
     "text": [
      "\n"
     ]
    }
   ],
   "source": [
    "df['clean'] = df['clean'].progress_apply(lambda x: x.replace('\\n\\n',' ').replace('\\n',' ').replace('\\'s','s'))\n",
    "sia = SIA()\n",
    "df['sentiment'] = df['clean'].progress_apply(lambda x: sia.polarity_scores(x))"
   ]
  },
  {
   "cell_type": "code",
   "execution_count": 9,
   "metadata": {},
   "outputs": [
    {
     "data": {
      "application/vnd.jupyter.widget-view+json": {
       "model_id": "1eba250ad11740f7b7ceac07abec8090",
       "version_major": 2,
       "version_minor": 0
      },
      "text/plain": [
       "HBox(children=(IntProgress(value=0, max=514797), HTML(value='')))"
      ]
     },
     "metadata": {},
     "output_type": "display_data"
    },
    {
     "name": "stdout",
     "output_type": "stream",
     "text": [
      "\n"
     ]
    }
   ],
   "source": [
    "negative_comment = df[df.progress_apply(lambda x: x.sentiment['compound'] < 0, axis=1)]\n",
    "negative_comment.reset_index(inplace=True)"
   ]
  },
  {
   "cell_type": "code",
   "execution_count": 10,
   "metadata": {},
   "outputs": [
    {
     "name": "stdout",
     "output_type": "stream",
     "text": [
      "What I particularly liked about this article was that it showed how Beto approaches the role of being an elected official who represents a constituency.  The writer asked (in 2013, now) about Congresss calls for border enforcement. Beto gives a three-part response:   Identifying that issue within its broader context, and refusing to placate by using a catch phrase with little meaning just so you can be heard saying the \"right\" things;   Providing specific examples of how the issue is affecting his constituents;   Acknowledging that to make a change that is good for his constituents, he will also need to identify \"whats in it for them\" for his counterparts who are working for other constituents, so that there can be real action that works for everyone.  Thats the way its supposed to work. And that not enough of our elected officials are doing that is the reason people say that our government is broken, we need some nebulously-defined \"outsider\", etc. We know somethings not working, but we're not putting our finger on what exactly isn't working. Its this approach thats missing. {'neg': 0.037, 'neu': 0.941, 'pos': 0.022, 'compound': -0.4026}\n",
      "Thats the best they had against Clinton and she wasn't fine. ​ Remember this meme that claimed her largest donors were Banks?  Dude, check out the biggest employers in New York: ​ https://moneyinc.com/the-20-biggest-employers-in-nyc/ ​ The 20 Biggest Employers in NYC 1. JPMorgan Chase & Co/249,257 employees 2. Citi/219,000 employees ​ So what that meme is showing you is that over a two decade period including 2 senate runs and 2 presidential primaries the people who worked for the two largest employers in her state gave her an amount of money that is less than a seventh of a percent of her total war chest.  Tellers, janitors, Security guards, ATM repairmen, HR people, secretaries, IT staff  ...  you know, normal people. ​ If you hate her for those donations you are essentially saying that almost half a million human beings don't get to donate to candidates they like because of who they work for.  This board looks exactly like my posts in 2016 pointing out exactly these same points about Clinton.  Yes its a stupid mean lying attack.  But the people eating it up won't listen to your explanations or care. {'neg': 0.095, 'neu': 0.818, 'pos': 0.087, 'compound': -0.3802}\n",
      " (which no candidate is doing but I've seen a lot of writers do it). ​ Bernie argued that Obama needed to be primaried in 2012. ​ https://thehill.com/blogs/blog-briefing-room/news/176737-sanders-says-he-doesnt-know-who-would-step-up-to-primary-obama ​ Sanders said he still supports the concept of a primary challenge for Obama, because, Sanders said, even Republicans have done a better job of keeping their campaign promises than Obama.  ​ How is that not calling Obama a failure?   ​ Sanders has a consistent pattern of demanding that other people be judged on what they haven't achieved while he himself may only be judged on his intentions.  When he fails then the story must be the insurmountable obstacles in his way.  But when anyone else fails it is because they are corrupt, incompetent, or secret republicans who don't really want to succeed in the first place.   And of course everyone elses accomplishments may not be mentioned at all.  It doesn't matter that Bill Clinton, for example, stopped military investigations into soldiers sex lives and dishonorable discharges for gay service members.  It doesn't matter that thanks to him retired gay soldiers could become political activists for LGBT rights without losing their benefits or pension or GI Bill.  It doesn't matter that ex-soldier activists were fundamental in changing public sentiments and perceptions of gay men and paved the way for future progress.  In Bernie-land all we are allowed to talk about was that Bill wasn't able to get the votes he needed to pass the open service he campaigned on.  What a failure! ​ {'neg': 0.127, 'neu': 0.765, 'pos': 0.108, 'compound': -0.1131}\n",
      "I seem to be stuck on #2. {'neg': 0.286, 'neu': 0.714, 'pos': 0.0, 'compound': -0.25}\n",
      " and virtually all of the actual Sanders supporters in 2016 voted for Clinton in the end. ​ 1 in 4 Bernie primary voters did not vote for Clinton.  They did have lower pure defection rates than usual - 2% fewer of them went all the way and voted Trump, but they had historically unimaginably high rates of voting third party, writing in Bernie, or sitting at home and not voting at all.  In 2008 the Green party got about 160 thousand votes.  In 2016 it was 1.4 MILLION votes (reminder, Trump is president because of a mere 70K votes).  They haven't seen numbers like this since Ralph Nader gifted us with Bush the younger.   ​ https://en.wikipedia.org/wiki/Green_Party_of_the_United_States#President_and_Vice_President ​ Yeah I know, Bernie wasn't paying the bucks for the media campaigns that encouraged people to do this.  We know from the Mueller investigation that it was Russia shilling for Bernie with armies of bots and trolls. But those bots and trolls worked to influence peoples behavior because they amplified Bernies own messaging and also because he didn't lift a finger to fight back - even though he admits he knew it was happening and claims he told Hillarys campaign about it - apparently he thinks she should have done more to stop it while he bore no responsibility to say anything. This is patently ludicrous because the target of such a smear campaign is always the least credible person to call it out.  The most credible person is the beneficiary which is why this all could have been stopped cold if Bernie had been willing to sound the alarm in 2016.   ​ Bernie will let himself be used by right wing propaganda against Beto, Biden, or whoever the same way he let himself be used against Clinton.  Learn from the past.  Don't repeat it.   {'neg': 0.1, 'neu': 0.832, 'pos': 0.068, 'compound': -0.8065}\n",
      "You just need that candidate to walk up to trump and look at him dead square in the face and say: hey, your lying, shut the fuck up.   {'neg': 0.309, 'neu': 0.691, 'pos': 0.0, 'compound': -0.9042}\n",
      "We have Warren to worry about also. We need to check out her record also.  And the fact she takes money from big donors and PACs. They are going run her with Beto in order to split his vote. {'neg': 0.071, 'neu': 0.929, 'pos': 0.0, 'compound': -0.4404}\n",
      "No? {'neg': 1.0, 'neu': 0.0, 'pos': 0.0, 'compound': -0.296}\n",
      "How many of the CEOs of the banks responsible for the financial crash were held accountable? How many of the banks for the matter? I also can't seem to recall any corporations that have changed their ways due to Acts of Warren. If holding corporations and banks accountable is what shes been doing while shes in office, it largely seems, based on what I've seen, that shes failed.  {'neg': 0.087, 'neu': 0.866, 'pos': 0.047, 'compound': -0.6072}\n",
      "I could be wrong but I think the issue was the bill required USPS to fully fund pensions for like the next 80 years or something, which is a little ridiculous (if true). {'neg': 0.138, 'neu': 0.769, 'pos': 0.093, 'compound': -0.1557}\n",
      "I'm not a big fan of her I don't think her as president would work well. She has a nasty habit of taking money form banks she critics. {'neg': 0.252, 'neu': 0.68, 'pos': 0.068, 'compound': -0.687}\n",
      "This is what I'm thinking now. With Ojeda, who seems to be a decent up and comer whos refining his message, and now almost definitely Warren I don't think Bernie would risk diluting the progressive pool. Its troubling to think, thats for sure. {'neg': 0.118, 'neu': 0.782, 'pos': 0.099, 'compound': -0.2247}\n",
      "Its weird how this seems to be a really common story. Same thing for me too. {'neg': 0.108, 'neu': 0.892, 'pos': 0.0, 'compound': -0.1779}\n",
      "I'm guessing she didn't run last year because he ran. I'm guessing this year is the opposite. I'd be really surprised if Sanders runs. They'd split the progressive vote in the primary (and lose as a result). {'neg': 0.069, 'neu': 0.874, 'pos': 0.056, 'compound': -0.1298}\n",
      "I thought it said Library School at first and was horrified {'neg': 0.28, 'neu': 0.72, 'pos': 0.0, 'compound': -0.5423}\n",
      "She wouldnt even endorse him in 2016. {'neg': 0.246, 'neu': 0.754, 'pos': 0.0, 'compound': -0.2411}\n",
      "If you are looking for a takedown on Warren this is a smearing documentary about her connection to Suzy Orman. How Suzy Orman Scammed the Poor and Middle Class. https://youtu.be/wZJh25-sO98 Warren is constantly tied to this woman. {'neg': 0.084, 'neu': 0.916, 'pos': 0.0, 'compound': -0.4767}\n",
      "The Guardian has been on fire lately with their Bernie output. {'neg': 0.194, 'neu': 0.806, 'pos': 0.0, 'compound': -0.34}\n",
      "So much of this, leave the identity politics and the door and fight hard on the real issues! {'neg': 0.27, 'neu': 0.73, 'pos': 0.0, 'compound': -0.5487}\n",
      "Our species and planet is not going to survive the effects of catastrophic climate change with political incrementalism. Desperate times call for desperate actions. Please study the current scientific consensus on climate change and the urgency of action before advocating the \"lesser of two evils\" position. Thanks. {'neg': 0.199, 'neu': 0.711, 'pos': 0.09, 'compound': -0.743}\n"
     ]
    }
   ],
   "source": [
    "for i in range(0, 20):\n",
    "    print(negative_comment.loc[i][['clean', 'sentiment']][0], negative_comment.loc[i][['clean', 'sentiment']][1])"
   ]
  }
 ],
 "metadata": {
  "kernelspec": {
   "display_name": "Python 3",
   "language": "python",
   "name": "python3"
  },
  "language_info": {
   "codemirror_mode": {
    "name": "ipython",
    "version": 3
   },
   "file_extension": ".py",
   "mimetype": "text/x-python",
   "name": "python",
   "nbconvert_exporter": "python",
   "pygments_lexer": "ipython3",
   "version": "3.7.3"
  }
 },
 "nbformat": 4,
 "nbformat_minor": 2
}
