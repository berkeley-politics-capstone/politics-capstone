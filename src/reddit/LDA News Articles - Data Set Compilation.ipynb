{
 "cells": [
  {
   "cell_type": "code",
   "execution_count": 274,
   "metadata": {},
   "outputs": [],
   "source": [
    "import gensim\n",
    "import pandas as pd\n",
    "import pickle\n",
    "import seaborn as sns\n",
    "import pyLDAvis.gensim\n",
    "import matplotlib.pyplot as plt\n",
    "\n",
    "from tqdm._tqdm_notebook import tqdm_notebook as tqdm\n",
    "#initialize tqdm\n",
    "tqdm.pandas()\n",
    "sns.set_style('darkgrid')"
   ]
  },
  {
   "cell_type": "code",
   "execution_count": 94,
   "metadata": {},
   "outputs": [
    {
     "data": {
      "text/plain": [
       "82"
      ]
     },
     "execution_count": 94,
     "metadata": {},
     "output_type": "execute_result"
    }
   ],
   "source": [
    "len(topic_titles)"
   ]
  },
  {
   "cell_type": "code",
   "execution_count": 137,
   "metadata": {},
   "outputs": [],
   "source": [
    "DATA_DIR = '../../data/reddit/Article_data_2019/'\n",
    "useful_topics = [2,4,6,7,8,9,12,13,14,17,18,19,20,21,22,23,24,26,28,29,30,31,32,33,34,35,38,42,44,45,46,47,48,50,51,\n",
    "                 52,53,55,58,61,62,63,64,66,67,68,69,70,71,75,77,78,79,80,85,86,87,88,89,91,92,93,96,99]\n",
    "\n",
    "topic_titles = ['2020 election', 'trump administration', 'climate change', 'trump foreign policy', 'mueller report', \n",
    "                'cohen', 'williamson', '2018 congress', 'border', 'first debate', 'hunder biden', 'town hall', \n",
    "                'first debate', 'biden busing', 'female congresswomen', 'nxivm sex cult', 'auto industry', \n",
    "                'assange', 'healthcare', 'de blasio', 'buttigieg', 'impeachment', \n",
    "                'us economy (socialism vs captialism)', 'economic foreign policy', 'iowa caucus', \n",
    "                'north carolina voter fraud', 'north korea', 'jean carroll', '2020 election', 'kavanaugh', \n",
    "                'harris', 'mccain', 'aoc', 'sanders', 'border', 'prison reform', 'getty', 'graham', \n",
    "                '2020 democratic primary', 'stephanopoulos', 'tax fact check', 'generic words', 'o\\'rourke', \n",
    "                'media words', 'drugs', 'venezuela', 'tech', 'iran', 'assange', 'random', 'healthcare', \n",
    "                'harris', 'student debt', 'russian interference', 'politico', 'booker', 'socialism', \n",
    "                'megan davis', 'lgbtq', 'swalwell', 'former counsel for mueller report', 'trump racist', \n",
    "                'sanders', 'sanders', 'puerto rico', 'reuters', 'hickenlooper', 'tax return', 'supreme court', \n",
    "                '2020 democratic primary', 'electoral college', 'inslee', 'gravel', 'generic words', 'socialism', \n",
    "                'marijuana', 'maher', 'gun laws', 'yang', 'unions', '2020 democratic primary', 'media words', \n",
    "                'hamilton musical??', 'pundits', 'stacey abrams', 'trump', 'warren', 'israel', 'congress', 'harris', \n",
    "                'southern racism', 'civil rights', 'busing', 'north korea', 'gold', 'stufff', 'mcconnell', 'stuffs', \n",
    "                'generic words', 'iran/afghanistan']\n",
    "\n",
    "candidates = [\"SANDERS\",\"DELANEY\",\"WARREN\",\"HARRIS\",\"GILLIBRAND\",\"O'ROURKE\",\"KLOBUCHAR\",\"BOOKER\",\n",
    "    \"BUTTIGIEG\",\"GABBARD\",\"YANG\",\"INSLEE\",\"HICKENLOOPER\",\"WILLIAMSON\",\"TULSI\",\"CASTRO\",\"BIDEN\", \"BERNIE\",\n",
    "    \"BETO\", \"ROURKE\", \"BENNETT\", \"BULLOCK\", \"BLASIO\", \"TIM RYAN\", \"GRAVEL\"]\n",
    "candidates = set([x.lower() for x in candidates])\n",
    "\n",
    "candidate_dict = {'klobuchar': 'klobuchar',\n",
    " 'bennett': 'bennett',\n",
    " 'booker': 'booker',\n",
    " 'warren': 'warren',\n",
    " 'castro': 'castro',\n",
    " 'williamson': 'williamson',\n",
    " 'gabbard': 'gabbard',\n",
    " 'bernie': 'sanders',\n",
    " \"o'rourke\": \"o_rourke\",\n",
    " 'bullock': 'bullock',\n",
    " #'tim ryan': 'tim_ryan',\n",
    " 'sanders': 'sanders',\n",
    " 'biden': 'biden',\n",
    " 'hickenlooper': 'hickenlooper',\n",
    " 'blasio': 'de_blasio',\n",
    " 'yang': 'yang',\n",
    " 'delaney': 'delaney',\n",
    " 'gillibrand': 'gillibrand',\n",
    " 'beto': 'o_rourke',\n",
    " 'harris': 'harris',\n",
    " 'inslee': 'inslee',\n",
    " 'rourke': 'o_rourke',\n",
    " 'gravel': 'gravel',\n",
    " 'tulsi': 'gabbard',\n",
    " 'buttigieg': 'buttigieg'}"
   ]
  },
  {
   "cell_type": "code",
   "execution_count": 43,
   "metadata": {},
   "outputs": [],
   "source": [
    "# source data\n",
    "filename = DATA_DIR + 'LDA/df.pkl'\n",
    "df = pd.read_pickle(filename)"
   ]
  },
  {
   "cell_type": "code",
   "execution_count": 186,
   "metadata": {},
   "outputs": [
    {
     "name": "stderr",
     "output_type": "stream",
     "text": [
      "/usr/local/lib/python3.7/site-packages/smart_open/smart_open_lib.py:398: UserWarning: This function is deprecated, use smart_open.open instead. See the migration notes for details: https://github.com/RaRe-Technologies/smart_open/blob/master/README.rst#migrating-to-the-new-open-function\n",
      "  'See the migration notes for details: %s' % _MIGRATION_NOTES_URL\n",
      "/usr/local/lib/python3.7/site-packages/smart_open/smart_open_lib.py:398: UserWarning: This function is deprecated, use smart_open.open instead. See the migration notes for details: https://github.com/RaRe-Technologies/smart_open/blob/master/README.rst#migrating-to-the-new-open-function\n",
      "  'See the migration notes for details: %s' % _MIGRATION_NOTES_URL\n",
      "/usr/local/lib/python3.7/site-packages/pyLDAvis/_prepare.py:257: FutureWarning: Sorting because non-concatenation axis is not aligned. A future version\n",
      "of pandas will change to not sort by default.\n",
      "\n",
      "To accept the future behavior, pass 'sort=False'.\n",
      "\n",
      "To retain the current behavior and silence the warning, pass 'sort=True'.\n",
      "\n",
      "  return pd.concat([default_term_info] + list(topic_dfs))\n"
     ]
    }
   ],
   "source": [
    "# model and corpus\n",
    "model = gensim.models.LdaModel.load(DATA_DIR + '/LDA/models/100_model_10_article_text_2019_candidate_only_len4.gensim')\n",
    "dictionary = gensim.corpora.Dictionary.load(DATA_DIR + 'LDA/article_text_2019_candidate_only_dictionary.gensim')\n",
    "corpus = pickle.load(open(DATA_DIR + 'LDA/article_text_2019_candidate_only' + '_corpus.pkl', 'rb'))\n",
    "p = pyLDAvis.gensim.prepare(model, corpus, dictionary)\n",
    "pyLDAvis.save_html(p, DATA_DIR + 'LDA/lda_vis.html')"
   ]
  },
  {
   "cell_type": "code",
   "execution_count": 139,
   "metadata": {},
   "outputs": [
    {
     "data": {
      "application/vnd.jupyter.widget-view+json": {
       "model_id": "6ebfbe723e0c447396de12f9dc9c4fd0",
       "version_major": 2,
       "version_minor": 0
      },
      "text/plain": [
       "HBox(children=(IntProgress(value=0, max=78409), HTML(value='')))"
      ]
     },
     "metadata": {},
     "output_type": "display_data"
    },
    {
     "name": "stdout",
     "output_type": "stream",
     "text": [
      "\n"
     ]
    },
    {
     "data": {
      "application/vnd.jupyter.widget-view+json": {
       "model_id": "def4a985375c4c54904e5e84e2beeeab",
       "version_major": 2,
       "version_minor": 0
      },
      "text/plain": [
       "HBox(children=(IntProgress(value=0, max=78409), HTML(value='')))"
      ]
     },
     "metadata": {},
     "output_type": "display_data"
    },
    {
     "name": "stdout",
     "output_type": "stream",
     "text": [
      "\n"
     ]
    }
   ],
   "source": [
    "df['corpus'] = df.text_lemmas.progress_map(lambda x: dictionary.doc2bow(x))\n",
    "df['topics'] = df.corpus.progress_map(lambda x: list(filter(lambda y: y[0] in useful_topics,model[x])))"
   ]
  },
  {
   "cell_type": "code",
   "execution_count": 140,
   "metadata": {},
   "outputs": [
    {
     "data": {
      "application/vnd.jupyter.widget-view+json": {
       "model_id": "05385092d26240f580469128cc02fda7",
       "version_major": 2,
       "version_minor": 0
      },
      "text/plain": [
       "HBox(children=(IntProgress(value=0, max=78409), HTML(value='')))"
      ]
     },
     "metadata": {},
     "output_type": "display_data"
    },
    {
     "name": "stdout",
     "output_type": "stream",
     "text": [
      "\n"
     ]
    }
   ],
   "source": [
    "def vector_concatenator(vector):\n",
    "    v = [(topic_titles[y[0]], y[1]) for y in vector]\n",
    "    v_final = dict()\n",
    "    for t in v:\n",
    "        if t[0] in v_final.keys():\n",
    "            v_final[t[0]] += t[1]\n",
    "        else:\n",
    "            v_final[t[0]] = t[1]\n",
    "    return list(zip(v_final.keys(), v_final.values()))\n",
    "\n",
    "df['topic_titles'] = df.topics.progress_map(vector_concatenator)"
   ]
  },
  {
   "cell_type": "code",
   "execution_count": 141,
   "metadata": {},
   "outputs": [
    {
     "data": {
      "application/vnd.jupyter.widget-view+json": {
       "model_id": "ae6074f7dacd4c45b45470f5aece571d",
       "version_major": 2,
       "version_minor": 0
      },
      "text/plain": [
       "HBox(children=(IntProgress(value=0, max=78409), HTML(value='')))"
      ]
     },
     "metadata": {},
     "output_type": "display_data"
    },
    {
     "name": "stdout",
     "output_type": "stream",
     "text": [
      "\n"
     ]
    },
    {
     "data": {
      "application/vnd.jupyter.widget-view+json": {
       "model_id": "2983904b170f406d9ddd307fb3087f0f",
       "version_major": 2,
       "version_minor": 0
      },
      "text/plain": [
       "HBox(children=(IntProgress(value=0, max=78409), HTML(value='')))"
      ]
     },
     "metadata": {},
     "output_type": "display_data"
    },
    {
     "name": "stdout",
     "output_type": "stream",
     "text": [
      "\n"
     ]
    }
   ],
   "source": [
    "def intersection(lemma): \n",
    "    lemma = [token.lower() for token in lemma]\n",
    "    intersect = candidates.intersection(lemma)\n",
    "    return {candidate_dict[x] for x in intersect}\n",
    "\n",
    "df['candidate_title'] = df['title_lemmas'].progress_map(intersection)\n",
    "df['candidate_text'] = df['text_lemmas'].progress_map(intersection)"
   ]
  },
  {
   "cell_type": "code",
   "execution_count": 142,
   "metadata": {},
   "outputs": [],
   "source": [
    "df.to_csv(DATA_DIR + 'final_top_topics_news_articles.csv')\n",
    "df.to_pickle(DATA_DIR + 'final_top_topics_news_articles.pkl')"
   ]
  },
  {
   "cell_type": "code",
   "execution_count": 13,
   "metadata": {},
   "outputs": [],
   "source": [
    "df = pd.read_pickle(DATA_DIR + 'final_top_topics_news_articles.csv')"
   ]
  },
  {
   "cell_type": "markdown",
   "metadata": {},
   "source": [
    "### Aggregated in Time Series"
   ]
  },
  {
   "cell_type": "code",
   "execution_count": 143,
   "metadata": {},
   "outputs": [],
   "source": [
    "### get date dataframes\n",
    "df_date = pd.read_pickle(DATA_DIR + 'reddit_2019jun16tojul1_dates.pkl')\n",
    "df_date = df_date.append(pd.read_pickle(DATA_DIR + 'reddit_2019_dates.pkl'))\n",
    "df_date = df_date.append(pd.read_csv(DATA_DIR + 'dates_missing_ids.csv', index_col=0))"
   ]
  },
  {
   "cell_type": "code",
   "execution_count": 174,
   "metadata": {},
   "outputs": [],
   "source": [
    "df2 = df.merge(df_date, on='id', how='left') #df.join(df_date, on='id', how='left')\n",
    "df2['day'] = pd.to_datetime(df2['created_utc'], yearfirst=True).dt.round('d')\n",
    "df2['week']= df2['day'] - pd.to_timedelta(df2['day'].dt.dayofweek, unit='d')\n",
    "df2['candidate_text'] = df2.candidate_text.map(lambda x: list(x))\n",
    "df2['counter'] = 1\n",
    "df2.counter = df2.counter.astype('object')"
   ]
  },
  {
   "cell_type": "code",
   "execution_count": 219,
   "metadata": {},
   "outputs": [],
   "source": [
    "time = 'week' # day\n",
    "\n",
    "def vector_concatenator(row):\n",
    "    vector = row.topic_titles\n",
    "    v_final = dict()\n",
    "    for t in vector:\n",
    "        if t[0] in v_final.keys():\n",
    "            v_final[t[0]] += t[1]\n",
    "        else:\n",
    "            v_final[t[0]] = t[1]\n",
    "    return list(zip(v_final.keys(), map(lambda x: x/row.counter, v_final.values())))\n",
    "\n",
    "def vector_counter(row):\n",
    "    vector = row.candidate_text\n",
    "    v_final = dict()\n",
    "    for t in vector:\n",
    "        if t in v_final.keys():\n",
    "            v_final[t] += 1\n",
    "        else:\n",
    "            v_final[t] = 1\n",
    "    return list(zip(v_final.keys(), map(lambda x: x/row.counter, v_final.values())))\n",
    "\n",
    "def normalize_topics(row):\n",
    "    tt = row.topic_titles.copy()\n",
    "    s = 0\n",
    "    for x in tt:\n",
    "        s += x[1]\n",
    "        \n",
    "    for i in range(len(tt)):\n",
    "        tt[i] = (tt[i][0], tt[i][1]*(1.0/s))\n",
    "        \n",
    "    return tt\n",
    "\n",
    "candidate_dfs = dict()\n",
    "for candidate in set(candidate_dict.values()):\n",
    "    candidate_dfs[candidate] = df2[df2.candidate_text.map(lambda x: candidate in x)]\\\n",
    "                                [['counter', 'score', 'candidate_text', 'topic_titles', time]]\\\n",
    "                                .groupby(time).agg(sum)\n",
    "    candidate_dfs[candidate].topic_titles = candidate_dfs[candidate].apply(vector_concatenator, axis=1)\n",
    "    candidate_dfs[candidate].candidate_text = candidate_dfs[candidate].apply(vector_counter, axis=1)\n",
    "    candidate_dfs[candidate].topic_titles = candidate_dfs[candidate].apply(normalize_topics, axis=1)\n",
    "df2_agg = df2[['counter', 'score', 'candidate_text', 'topic_titles', time]].groupby(time).agg(sum)\n",
    "df2_agg.topic_titles = df2_agg.apply(vector_concatenator, axis=1)\n",
    "df2_agg.candidate_text = df2_agg.apply(vector_counter, axis=1)\n",
    "df2_agg.topic_titles = df2_agg.apply(normalize_topics, axis=1)\n",
    "candidate_dfs['none'] = df2_agg"
   ]
  },
  {
   "cell_type": "code",
   "execution_count": 187,
   "metadata": {},
   "outputs": [
    {
     "name": "stdout",
     "output_type": "stream",
     "text": [
      "mkdir: ../../data/reddit/Article_data_2019/candidate_aggregation/: File exists\r\n"
     ]
    }
   ],
   "source": [
    "!mkdir {DATA_DIR + 'candidate_aggregation/'}\n",
    "for candidate in set(candidate_dict.values()):\n",
    "    candidate_dfs[candidate].to_csv(DATA_DIR + 'candidate_aggregation/' + candidate + '.csv')"
   ]
  },
  {
   "cell_type": "code",
   "execution_count": 70,
   "metadata": {},
   "outputs": [],
   "source": [
    "candidate_dfs = dict()\n",
    "for candidate in set(candidate_dict.values()):\n",
    "    candidate_dfs[candidate] = pd.read_csv(DATA_DIR + 'candidate_aggregation/' + candidate + '.csv')"
   ]
  },
  {
   "cell_type": "code",
   "execution_count": 220,
   "metadata": {},
   "outputs": [
    {
     "data": {
      "text/html": [
       "<div>\n",
       "<style scoped>\n",
       "    .dataframe tbody tr th:only-of-type {\n",
       "        vertical-align: middle;\n",
       "    }\n",
       "\n",
       "    .dataframe tbody tr th {\n",
       "        vertical-align: top;\n",
       "    }\n",
       "\n",
       "    .dataframe thead th {\n",
       "        text-align: right;\n",
       "    }\n",
       "</style>\n",
       "<table border=\"1\" class=\"dataframe\">\n",
       "  <thead>\n",
       "    <tr style=\"text-align: right;\">\n",
       "      <th></th>\n",
       "      <th>counter</th>\n",
       "      <th>score</th>\n",
       "      <th>candidate_text</th>\n",
       "      <th>topic_titles</th>\n",
       "    </tr>\n",
       "    <tr>\n",
       "      <th>week</th>\n",
       "      <th></th>\n",
       "      <th></th>\n",
       "      <th></th>\n",
       "      <th></th>\n",
       "    </tr>\n",
       "  </thead>\n",
       "  <tbody>\n",
       "    <tr>\n",
       "      <th>2018-12-31</th>\n",
       "      <td>28</td>\n",
       "      <td>28</td>\n",
       "      <td>[(klobuchar, 0.14285714285714285), (harris, 1....</td>\n",
       "      <td>[(first debate, 0.05299079834711036), (de blas...</td>\n",
       "    </tr>\n",
       "    <tr>\n",
       "      <th>2019-01-07</th>\n",
       "      <td>169</td>\n",
       "      <td>183</td>\n",
       "      <td>[(harris, 1.0), (sanders, 0.42011834319526625)...</td>\n",
       "      <td>[(2018 congress, 0.03379365606889881), (health...</td>\n",
       "    </tr>\n",
       "    <tr>\n",
       "      <th>2019-01-14</th>\n",
       "      <td>39</td>\n",
       "      <td>39</td>\n",
       "      <td>[(harris, 1.0), (booker, 0.41025641025641024),...</td>\n",
       "      <td>[(first debate, 0.08069486553278238), (female ...</td>\n",
       "    </tr>\n",
       "    <tr>\n",
       "      <th>2019-01-21</th>\n",
       "      <td>212</td>\n",
       "      <td>212</td>\n",
       "      <td>[(harris, 1.0), (warren, 0.5424528301886793), ...</td>\n",
       "      <td>[(first debate, 0.07254402067626409), (sanders...</td>\n",
       "    </tr>\n",
       "    <tr>\n",
       "      <th>2019-01-28</th>\n",
       "      <td>237</td>\n",
       "      <td>414</td>\n",
       "      <td>[(warren, 0.5316455696202531), (harris, 1.0), ...</td>\n",
       "      <td>[(healthcare, 0.07377280617184669), (us econom...</td>\n",
       "    </tr>\n",
       "    <tr>\n",
       "      <th>2019-02-04</th>\n",
       "      <td>146</td>\n",
       "      <td>146</td>\n",
       "      <td>[(harris, 1.0), (sanders, 0.4041095890410959),...</td>\n",
       "      <td>[(2018 congress, 0.022687578543293663), (borde...</td>\n",
       "    </tr>\n",
       "    <tr>\n",
       "      <th>2019-02-11</th>\n",
       "      <td>159</td>\n",
       "      <td>40806</td>\n",
       "      <td>[(harris, 1.0), (sanders, 0.48427672955974843)...</td>\n",
       "      <td>[(2020 election, 0.05362063852003861), (sander...</td>\n",
       "    </tr>\n",
       "    <tr>\n",
       "      <th>2019-02-18</th>\n",
       "      <td>272</td>\n",
       "      <td>221357</td>\n",
       "      <td>[(harris, 1.0), (sanders, 0.6029411764705882),...</td>\n",
       "      <td>[(border, 0.0200911378593054), (2020 election,...</td>\n",
       "    </tr>\n",
       "    <tr>\n",
       "      <th>2019-02-25</th>\n",
       "      <td>252</td>\n",
       "      <td>74221</td>\n",
       "      <td>[(harris, 1.0), (biden, 0.3055555555555556), (...</td>\n",
       "      <td>[(2020 election, 0.08356548465591004), (harris...</td>\n",
       "    </tr>\n",
       "    <tr>\n",
       "      <th>2019-03-04</th>\n",
       "      <td>50</td>\n",
       "      <td>68879</td>\n",
       "      <td>[(harris, 1.0), (sanders, 0.7), (booker, 0.54)...</td>\n",
       "      <td>[(first debate, 0.06519546238929896), (sanders...</td>\n",
       "    </tr>\n",
       "    <tr>\n",
       "      <th>2019-03-11</th>\n",
       "      <td>78</td>\n",
       "      <td>22611</td>\n",
       "      <td>[(warren, 0.5128205128205128), (o_rourke, 0.44...</td>\n",
       "      <td>[(2020 election, 0.07913230311744575), (sander...</td>\n",
       "    </tr>\n",
       "    <tr>\n",
       "      <th>2019-03-18</th>\n",
       "      <td>307</td>\n",
       "      <td>109456</td>\n",
       "      <td>[(klobuchar, 0.3289902280130293), (harris, 1.0...</td>\n",
       "      <td>[(first debate, 0.07213225368498288), (iowa ca...</td>\n",
       "    </tr>\n",
       "    <tr>\n",
       "      <th>2019-03-25</th>\n",
       "      <td>134</td>\n",
       "      <td>64475</td>\n",
       "      <td>[(harris, 1.0), (sanders, 0.6119402985074627),...</td>\n",
       "      <td>[(buttigieg, 0.027733214482899615), (2020 elec...</td>\n",
       "    </tr>\n",
       "    <tr>\n",
       "      <th>2019-04-01</th>\n",
       "      <td>213</td>\n",
       "      <td>78077</td>\n",
       "      <td>[(gillibrand, 0.3286384976525822), (biden, 0.4...</td>\n",
       "      <td>[(kavanaugh, 0.009276137038018823), (2020 demo...</td>\n",
       "    </tr>\n",
       "    <tr>\n",
       "      <th>2019-04-08</th>\n",
       "      <td>145</td>\n",
       "      <td>48922</td>\n",
       "      <td>[(harris, 1.0), (sanders, 0.8137931034482758),...</td>\n",
       "      <td>[(2020 election, 0.1380039992921419), (student...</td>\n",
       "    </tr>\n",
       "    <tr>\n",
       "      <th>2019-04-15</th>\n",
       "      <td>183</td>\n",
       "      <td>50222</td>\n",
       "      <td>[(harris, 1.0), (sanders, 0.7377049180327869),...</td>\n",
       "      <td>[(first debate, 0.048578896145429734), (health...</td>\n",
       "    </tr>\n",
       "    <tr>\n",
       "      <th>2019-04-22</th>\n",
       "      <td>260</td>\n",
       "      <td>104149</td>\n",
       "      <td>[(harris, 1.0), (sanders, 0.7423076923076923),...</td>\n",
       "      <td>[(first debate, 0.053170435544264365), (aoc, 0...</td>\n",
       "    </tr>\n",
       "    <tr>\n",
       "      <th>2019-04-29</th>\n",
       "      <td>234</td>\n",
       "      <td>232064</td>\n",
       "      <td>[(warren, 0.452991452991453), (harris, 1.0), (...</td>\n",
       "      <td>[(healthcare, 0.027381889776773177), (impeachm...</td>\n",
       "    </tr>\n",
       "    <tr>\n",
       "      <th>2019-05-06</th>\n",
       "      <td>139</td>\n",
       "      <td>55523</td>\n",
       "      <td>[(warren, 0.5755395683453237), (o_rourke, 0.44...</td>\n",
       "      <td>[(mueller report, 0.03868949558011808), (2018 ...</td>\n",
       "    </tr>\n",
       "    <tr>\n",
       "      <th>2019-05-13</th>\n",
       "      <td>202</td>\n",
       "      <td>53108</td>\n",
       "      <td>[(harris, 1.0), (sanders, 0.5594059405940595),...</td>\n",
       "      <td>[(biden busing, 0.0026332273970224008), (butti...</td>\n",
       "    </tr>\n",
       "    <tr>\n",
       "      <th>2019-05-20</th>\n",
       "      <td>200</td>\n",
       "      <td>63683</td>\n",
       "      <td>[(warren, 0.58), (biden, 0.575), (harris, 1.0)...</td>\n",
       "      <td>[(2020 election, 0.16159188433121666), (sander...</td>\n",
       "    </tr>\n",
       "    <tr>\n",
       "      <th>2019-05-27</th>\n",
       "      <td>262</td>\n",
       "      <td>139745</td>\n",
       "      <td>[(harris, 1.0), (sanders, 0.5801526717557252),...</td>\n",
       "      <td>[(2020 election, 0.10907905929590268), (2020 d...</td>\n",
       "    </tr>\n",
       "    <tr>\n",
       "      <th>2019-06-03</th>\n",
       "      <td>96</td>\n",
       "      <td>25325</td>\n",
       "      <td>[(inslee, 0.1875), (klobuchar, 0.3229166666666...</td>\n",
       "      <td>[(climate change, 0.023713368247738665), (firs...</td>\n",
       "    </tr>\n",
       "    <tr>\n",
       "      <th>2019-06-10</th>\n",
       "      <td>19</td>\n",
       "      <td>960</td>\n",
       "      <td>[(klobuchar, 0.15789473684210525), (harris, 1....</td>\n",
       "      <td>[(first debate, 0.027238180901405416), (buttig...</td>\n",
       "    </tr>\n",
       "    <tr>\n",
       "      <th>2019-06-17</th>\n",
       "      <td>469</td>\n",
       "      <td>185050</td>\n",
       "      <td>[(klobuchar, 0.16417910447761194), (harris, 1....</td>\n",
       "      <td>[(first debate, 0.06265273419506143), (2020 el...</td>\n",
       "    </tr>\n",
       "    <tr>\n",
       "      <th>2019-06-24</th>\n",
       "      <td>698</td>\n",
       "      <td>240614</td>\n",
       "      <td>[(harris, 1.0), (sanders, 0.5945558739255015),...</td>\n",
       "      <td>[(buttigieg, 0.0697147349094471), (2020 democr...</td>\n",
       "    </tr>\n",
       "    <tr>\n",
       "      <th>2019-07-01</th>\n",
       "      <td>197</td>\n",
       "      <td>35185</td>\n",
       "      <td>[(biden, 0.8324873096446701), (harris, 1.0), (...</td>\n",
       "      <td>[(first debate, 0.08377897809859466), (2020 de...</td>\n",
       "    </tr>\n",
       "  </tbody>\n",
       "</table>\n",
       "</div>"
      ],
      "text/plain": [
       "            counter   score  \\\n",
       "week                          \n",
       "2018-12-31       28      28   \n",
       "2019-01-07      169     183   \n",
       "2019-01-14       39      39   \n",
       "2019-01-21      212     212   \n",
       "2019-01-28      237     414   \n",
       "2019-02-04      146     146   \n",
       "2019-02-11      159   40806   \n",
       "2019-02-18      272  221357   \n",
       "2019-02-25      252   74221   \n",
       "2019-03-04       50   68879   \n",
       "2019-03-11       78   22611   \n",
       "2019-03-18      307  109456   \n",
       "2019-03-25      134   64475   \n",
       "2019-04-01      213   78077   \n",
       "2019-04-08      145   48922   \n",
       "2019-04-15      183   50222   \n",
       "2019-04-22      260  104149   \n",
       "2019-04-29      234  232064   \n",
       "2019-05-06      139   55523   \n",
       "2019-05-13      202   53108   \n",
       "2019-05-20      200   63683   \n",
       "2019-05-27      262  139745   \n",
       "2019-06-03       96   25325   \n",
       "2019-06-10       19     960   \n",
       "2019-06-17      469  185050   \n",
       "2019-06-24      698  240614   \n",
       "2019-07-01      197   35185   \n",
       "\n",
       "                                               candidate_text  \\\n",
       "week                                                            \n",
       "2018-12-31  [(klobuchar, 0.14285714285714285), (harris, 1....   \n",
       "2019-01-07  [(harris, 1.0), (sanders, 0.42011834319526625)...   \n",
       "2019-01-14  [(harris, 1.0), (booker, 0.41025641025641024),...   \n",
       "2019-01-21  [(harris, 1.0), (warren, 0.5424528301886793), ...   \n",
       "2019-01-28  [(warren, 0.5316455696202531), (harris, 1.0), ...   \n",
       "2019-02-04  [(harris, 1.0), (sanders, 0.4041095890410959),...   \n",
       "2019-02-11  [(harris, 1.0), (sanders, 0.48427672955974843)...   \n",
       "2019-02-18  [(harris, 1.0), (sanders, 0.6029411764705882),...   \n",
       "2019-02-25  [(harris, 1.0), (biden, 0.3055555555555556), (...   \n",
       "2019-03-04  [(harris, 1.0), (sanders, 0.7), (booker, 0.54)...   \n",
       "2019-03-11  [(warren, 0.5128205128205128), (o_rourke, 0.44...   \n",
       "2019-03-18  [(klobuchar, 0.3289902280130293), (harris, 1.0...   \n",
       "2019-03-25  [(harris, 1.0), (sanders, 0.6119402985074627),...   \n",
       "2019-04-01  [(gillibrand, 0.3286384976525822), (biden, 0.4...   \n",
       "2019-04-08  [(harris, 1.0), (sanders, 0.8137931034482758),...   \n",
       "2019-04-15  [(harris, 1.0), (sanders, 0.7377049180327869),...   \n",
       "2019-04-22  [(harris, 1.0), (sanders, 0.7423076923076923),...   \n",
       "2019-04-29  [(warren, 0.452991452991453), (harris, 1.0), (...   \n",
       "2019-05-06  [(warren, 0.5755395683453237), (o_rourke, 0.44...   \n",
       "2019-05-13  [(harris, 1.0), (sanders, 0.5594059405940595),...   \n",
       "2019-05-20  [(warren, 0.58), (biden, 0.575), (harris, 1.0)...   \n",
       "2019-05-27  [(harris, 1.0), (sanders, 0.5801526717557252),...   \n",
       "2019-06-03  [(inslee, 0.1875), (klobuchar, 0.3229166666666...   \n",
       "2019-06-10  [(klobuchar, 0.15789473684210525), (harris, 1....   \n",
       "2019-06-17  [(klobuchar, 0.16417910447761194), (harris, 1....   \n",
       "2019-06-24  [(harris, 1.0), (sanders, 0.5945558739255015),...   \n",
       "2019-07-01  [(biden, 0.8324873096446701), (harris, 1.0), (...   \n",
       "\n",
       "                                                 topic_titles  \n",
       "week                                                           \n",
       "2018-12-31  [(first debate, 0.05299079834711036), (de blas...  \n",
       "2019-01-07  [(2018 congress, 0.03379365606889881), (health...  \n",
       "2019-01-14  [(first debate, 0.08069486553278238), (female ...  \n",
       "2019-01-21  [(first debate, 0.07254402067626409), (sanders...  \n",
       "2019-01-28  [(healthcare, 0.07377280617184669), (us econom...  \n",
       "2019-02-04  [(2018 congress, 0.022687578543293663), (borde...  \n",
       "2019-02-11  [(2020 election, 0.05362063852003861), (sander...  \n",
       "2019-02-18  [(border, 0.0200911378593054), (2020 election,...  \n",
       "2019-02-25  [(2020 election, 0.08356548465591004), (harris...  \n",
       "2019-03-04  [(first debate, 0.06519546238929896), (sanders...  \n",
       "2019-03-11  [(2020 election, 0.07913230311744575), (sander...  \n",
       "2019-03-18  [(first debate, 0.07213225368498288), (iowa ca...  \n",
       "2019-03-25  [(buttigieg, 0.027733214482899615), (2020 elec...  \n",
       "2019-04-01  [(kavanaugh, 0.009276137038018823), (2020 demo...  \n",
       "2019-04-08  [(2020 election, 0.1380039992921419), (student...  \n",
       "2019-04-15  [(first debate, 0.048578896145429734), (health...  \n",
       "2019-04-22  [(first debate, 0.053170435544264365), (aoc, 0...  \n",
       "2019-04-29  [(healthcare, 0.027381889776773177), (impeachm...  \n",
       "2019-05-06  [(mueller report, 0.03868949558011808), (2018 ...  \n",
       "2019-05-13  [(biden busing, 0.0026332273970224008), (butti...  \n",
       "2019-05-20  [(2020 election, 0.16159188433121666), (sander...  \n",
       "2019-05-27  [(2020 election, 0.10907905929590268), (2020 d...  \n",
       "2019-06-03  [(climate change, 0.023713368247738665), (firs...  \n",
       "2019-06-10  [(first debate, 0.027238180901405416), (buttig...  \n",
       "2019-06-17  [(first debate, 0.06265273419506143), (2020 el...  \n",
       "2019-06-24  [(buttigieg, 0.0697147349094471), (2020 democr...  \n",
       "2019-07-01  [(first debate, 0.08377897809859466), (2020 de...  "
      ]
     },
     "execution_count": 220,
     "metadata": {},
     "output_type": "execute_result"
    }
   ],
   "source": [
    "candidate_dfs['harris']"
   ]
  },
  {
   "cell_type": "code",
   "execution_count": 181,
   "metadata": {
    "scrolled": true
   },
   "outputs": [
    {
     "data": {
      "text/plain": [
       "{'2018 congress',\n",
       " '2020 democratic primary',\n",
       " '2020 election',\n",
       " 'aoc',\n",
       " 'assange',\n",
       " 'biden busing',\n",
       " 'booker',\n",
       " 'border',\n",
       " 'busing',\n",
       " 'buttigieg',\n",
       " 'civil rights',\n",
       " 'climate change',\n",
       " 'congress',\n",
       " 'de blasio',\n",
       " 'drugs',\n",
       " 'economic foreign policy',\n",
       " 'electoral college',\n",
       " 'female congresswomen',\n",
       " 'first debate',\n",
       " 'gun laws',\n",
       " 'harris',\n",
       " 'healthcare',\n",
       " 'hickenlooper',\n",
       " 'impeachment',\n",
       " 'inslee',\n",
       " 'iowa caucus',\n",
       " 'iran',\n",
       " 'iran/afghanistan',\n",
       " 'israel',\n",
       " 'kavanaugh',\n",
       " 'lgbtq',\n",
       " 'marijuana',\n",
       " 'mccain',\n",
       " 'mcconnell',\n",
       " 'mueller report',\n",
       " 'north korea',\n",
       " \"o'rourke\",\n",
       " 'prison reform',\n",
       " 'puerto rico',\n",
       " 'russian interference',\n",
       " 'sanders',\n",
       " 'student debt',\n",
       " 'supreme court',\n",
       " 'tax return',\n",
       " 'tech',\n",
       " 'trump',\n",
       " 'trump racist',\n",
       " 'unions',\n",
       " 'us economy (socialism vs captialism)',\n",
       " 'venezuela',\n",
       " 'warren',\n",
       " 'williamson',\n",
       " 'yang'}"
      ]
     },
     "execution_count": 181,
     "metadata": {},
     "output_type": "execute_result"
    }
   ],
   "source": [
    "idxs = [2,4,6,7,8,9,12,13,14,17,18,19,20,21,22,23,24,26,28,29,30,31,32,33,34,35,38,42,44,45,46,47,48,50,51,\n",
    "                 52,53,55,58,61,62,63,64,66,67,68,69,70,71,75,77,78,79,80,85,86,87,88,89,91,92,93,96,99]\n",
    "{topic_titles[i] for i in useful_topics}"
   ]
  },
  {
   "cell_type": "code",
   "execution_count": 235,
   "metadata": {},
   "outputs": [],
   "source": [
    "candidate_dfs['all candidates'] = candidate_dfs['none']"
   ]
  },
  {
   "cell_type": "code",
   "execution_count": 328,
   "metadata": {
    "scrolled": true
   },
   "outputs": [],
   "source": [
    "def plot_topic_df(dataframe, topic, **params):\n",
    "\n",
    "    def extract_topic(row):\n",
    "        topic_list = list(filter(lambda y: y[0] == topic, row.topic_titles))\n",
    "        if len(topic_list) == 0:\n",
    "            return 0\n",
    "        else:\n",
    "            return topic_list[0][1]\n",
    "\n",
    "\n",
    "    return dataframe[dataframe.counter > 10]\\\n",
    "            .apply(extract_topic, axis =1)\\\n",
    "            .plot(**params)"
   ]
  },
  {
   "cell_type": "code",
   "execution_count": 357,
   "metadata": {},
   "outputs": [
    {
     "name": "stdout",
     "output_type": "stream",
     "text": [
      "dict_keys(['booker', 'yang', 'gravel', 'castro', 'buttigieg', 'delaney', 'klobuchar', 'harris', 'bennett', 'williamson', 'gabbard', 'inslee', 'sanders', 'warren', 'hickenlooper', 'gillibrand', 'de_blasio', 'o_rourke', 'biden', 'bullock', 'none', 'all candidates'])\n"
     ]
    },
    {
     "data": {
      "text/plain": [
       "<matplotlib.legend.Legend at 0x34c835908>"
      ]
     },
     "execution_count": 357,
     "metadata": {},
     "output_type": "execute_result"
    },
    {
     "data": {
      "image/png": "[encoded data removed]",
      "text/plain": [
       "<Figure size 432x288 with 1 Axes>"
      ]
     },
     "metadata": {},
     "output_type": "display_data"
    }
   ],
   "source": [
    "#ax1 = plt.subplots(nrows=1, ncols=1)\n",
    "print(candidate_dfs.keys())\n",
    "ylim = (0,0.1)\n",
    "topic = 'trump racist'\n",
    "c = 'biden'\n",
    "ax1 = plot_topic_df(candidate_dfs[c], topic, ylim = ylim, title= '{} Topic Frequency'.format(topic).title())\n",
    "plot_topic_df(candidate_dfs['williamson'], topic, ylim = ylim)\n",
    "plot_topic_df(candidate_dfs['booker'], topic, ylim = ylim)\n",
    "plot_topic_df(candidate_dfs['all candidates'], topic, ylim = ylim)\n",
    "ax1.legend([c, 'williamson', 'all candidates'])"
   ]
  },
  {
   "cell_type": "code",
   "execution_count": 213,
   "metadata": {},
   "outputs": [
    {
     "data": {
      "text/plain": [
       "day\n",
       "2019-01-02    0.000000\n",
       "2019-01-03    0.004406\n",
       "2019-01-06    0.005436\n",
       "2019-01-07    0.000000\n",
       "2019-01-08    0.001215\n",
       "2019-01-09    0.000000\n",
       "2019-01-10    0.001665\n",
       "2019-01-11    0.000000\n",
       "2019-01-12    0.003801\n",
       "2019-01-13    0.000000\n",
       "2019-01-15    0.000000\n",
       "2019-01-16    0.000000\n",
       "2019-01-19    0.013199\n",
       "2019-01-22    0.003397\n",
       "2019-01-23    0.000000\n",
       "2019-01-24    0.000000\n",
       "2019-01-25    0.011236\n",
       "2019-01-26    0.000000\n",
       "2019-01-27    0.000000\n",
       "2019-01-28    0.000000\n",
       "2019-01-29    0.006554\n",
       "2019-01-30    0.004153\n",
       "2019-02-01    0.000615\n",
       "2019-02-02    0.004907\n",
       "2019-02-03    0.002237\n",
       "2019-02-04    0.000000\n",
       "2019-02-07    0.000000\n",
       "2019-02-08    0.000526\n",
       "2019-02-09    0.001590\n",
       "2019-02-10    0.000000\n",
       "                ...   \n",
       "2019-05-24    0.000000\n",
       "2019-05-25    0.008744\n",
       "2019-05-26    0.000000\n",
       "2019-05-27    0.008007\n",
       "2019-05-28    0.001612\n",
       "2019-05-29    0.000228\n",
       "2019-05-30    0.000378\n",
       "2019-05-31    0.000000\n",
       "2019-06-01    0.000208\n",
       "2019-06-02    0.000000\n",
       "2019-06-03    0.000970\n",
       "2019-06-04    0.001109\n",
       "2019-06-05    0.000000\n",
       "2019-06-16    0.000000\n",
       "2019-06-17    0.000724\n",
       "2019-06-18    0.000179\n",
       "2019-06-19    0.004284\n",
       "2019-06-20    0.001397\n",
       "2019-06-21    0.001049\n",
       "2019-06-22    0.000635\n",
       "2019-06-23    0.008539\n",
       "2019-06-24    0.000000\n",
       "2019-06-25    0.000099\n",
       "2019-06-26    0.000000\n",
       "2019-06-27    0.000000\n",
       "2019-06-28    0.000688\n",
       "2019-06-29    0.000087\n",
       "2019-06-30    0.000730\n",
       "2019-07-01    0.000000\n",
       "2019-07-02    0.000293\n",
       "Length: 141, dtype: float64"
      ]
     },
     "execution_count": 213,
     "metadata": {},
     "output_type": "execute_result"
    }
   ],
   "source": [
    "def topic_df(dataframe, topic):\n",
    "\n",
    "    def extract_topic(row):\n",
    "        topic_list = list(filter(lambda y: y[0] == topic, row.topic_titles))\n",
    "        if len(topic_list) == 0:\n",
    "            return 0\n",
    "        else:\n",
    "            return topic_list[0][1]\n",
    "         \n",
    "\n",
    "    return dataframe[dataframe.counter > 10]\\\n",
    "                .apply(extract_topic, axis =1)\n",
    "topic_df(candidate_dfs[c][candidate_dfs[c].counter > 10], 'israel')"
   ]
  },
  {
   "cell_type": "code",
   "execution_count": 218,
   "metadata": {},
   "outputs": [
    {
     "data": {
      "text/plain": [
       "id                                                                  ajcbov\n",
       "num_comments                                                            34\n",
       "score                                                                    1\n",
       "subreddit                                                         politics\n",
       "subreddit_subscribers                                              4575520\n",
       "title                    What You Can’t Say About Israel (With Marc Lam...\n",
       "url                      https://theintercept.com/2019/01/24/what-you-c...\n",
       "authors                                                                 []\n",
       "date_download                                          2019-06-10 05:04:38\n",
       "date_modify                                                           None\n",
       "date_publish                                           2019-01-24 11:01:22\n",
       "description              There are signs that U.S. opinion might be shi...\n",
       "filename                 https%3A%2F%2Ftheintercept.com%2F2019%2F01%2F2...\n",
       "image_url                https://theintercept.imgix.net/wp-uploads/site...\n",
       "language                                                                en\n",
       "localpath                                                              NaN\n",
       "source_domain                                             theintercept.com\n",
       "text                     There are signs that U.S. opinion might be shi...\n",
       "title_1                  What You Can’t Say About Israel (with Marc Lam...\n",
       "title_page                                                             NaN\n",
       "title_rss                                                              NaN\n",
       "url_1                    https://theintercept.com/2019/01/24/what-you-c...\n",
       "title_lemmas                     [what, about, israel, marc, lamont, hill]\n",
       "text_lemmas              [there, sign, u.s., opinion, might, shift, isr...\n",
       "candidate_title                                                         {}\n",
       "candidate_text                           [warren, harris, sanders, booker]\n",
       "corpus                   [(1, 1), (2, 2), (3, 2), (8, 2), (15, 2), (17,...\n",
       "topics                   [(22, 0.028738314), (33, 0.028243601), (45, 0....\n",
       "topic_titles             [(us economy (socialism vs captialism), 0.0287...\n",
       "created_utc                                            2019-01-24 13:18:24\n",
       "day                                                    2019-01-25 00:00:00\n",
       "week                                                   2019-01-21 00:00:00\n",
       "counter                                                                  1\n",
       "Name: 8293, dtype: object"
      ]
     },
     "execution_count": 218,
     "metadata": {},
     "output_type": "execute_result"
    }
   ],
   "source": [
    "df2[(df2.candidate_text.map(lambda x: c in x)) & (df2.day == '2019-01-25')].loc[8293]"
   ]
  }
 ],
 "metadata": {
  "kernelspec": {
   "display_name": "Python 3",
   "language": "python",
   "name": "python3"
  },
  "language_info": {
   "codemirror_mode": {
    "name": "ipython",
    "version": 3
   },
   "file_extension": ".py",
   "mimetype": "text/x-python",
   "name": "python",
   "nbconvert_exporter": "python",
   "pygments_lexer": "ipython3",
   "version": "3.7.3"
  }
 },
 "nbformat": 4,
 "nbformat_minor": 2
}
