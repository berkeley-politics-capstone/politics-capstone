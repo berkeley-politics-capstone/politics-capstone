{
 "cells": [
  {
   "cell_type": "markdown",
   "metadata": {},
   "source": [
    "# FEC Dataset"
   ]
  },
  {
   "cell_type": "markdown",
   "metadata": {},
   "source": [
    "Download data from [https://berkeley-politics-capstone.s3.amazonaws.com/fec.zip](https://berkeley-politics-capstone.s3.amazonaws.com/fec.zip) and place in `\"../data/\"`"
   ]
  },
  {
   "cell_type": "code",
   "execution_count": 51,
   "metadata": {
    "collapsed": true
   },
   "outputs": [],
   "source": [
    "import os\n",
    "import sys\n",
    "import json\n",
    "import pandas as pd\n",
    "import matplotlib.pyplot as plt\n",
    "import warnings\n",
    "\n",
    "warnings.filterwarnings('ignore')\n",
    "%matplotlib inline"
   ]
  },
  {
   "cell_type": "code",
   "execution_count": 52,
   "metadata": {},
   "outputs": [
    {
     "name": "stdout",
     "output_type": "stream",
     "text": [
      "{\n",
      "    \"republican\": {\n",
      "        \"trump\": {\n",
      "            \"spending\": \"../data/fec/2020/republican/trump/schedule_b-2019-05-30T16_03_37.csv\",\n",
      "            \"donations\": \"../data/fec/2020/republican/trump/schedule_a-2019-05-30T16_03_37.csv\"\n",
      "        }\n",
      "    },\n",
      "    \"democrat\": {\n",
      "        \"harris\": {\n",
      "            \"spending\": \"../data/fec/2020/democrat/harris/schedule_b-2019-05-30T17_22_09.csv\",\n",
      "            \"donations\": \"../data/fec/2020/democrat/harris/schedule_a-2019-05-30T17_19_58.csv\"\n",
      "        },\n",
      "        \"buttigieg\": {\n",
      "            \"donations\": \"../data/fec/2020/democrat/buttigieg/schedule_a-2019-05-30T17_32_11.csv\",\n",
      "            \"spending\": \"../data/fec/2020/democrat/buttigieg/schedule_b-2019-05-30T17_32_14.csv\"\n",
      "        },\n",
      "        \"klobuchar\": {\n",
      "            \"spending\": \"../data/fec/2020/democrat/klobuchar/schedule_b-2019-05-30T17_28_05.csv\",\n",
      "            \"donations\": \"../data/fec/2020/democrat/klobuchar/schedule_a-2019-05-30T17_26_34.csv\"\n",
      "        },\n",
      "        \"yang\": {\n",
      "            \"donations\": \"../data/fec/2020/democrat/yang/schedule_a-2019-05-30T17_36_18.csv\",\n",
      "            \"spending\": \"../data/fec/2020/democrat/yang/schedule_b-2019-05-30T17_36_30.csv\"\n",
      "        },\n",
      "        \"gillibrand\": {\n",
      "            \"donations\": \"../data/fec/2020/democrat/gillibrand/schedule_a-2019-05-30T17_22_03.csv\",\n",
      "            \"spending\": \"../data/fec/2020/democrat/gillibrand/schedule_b-2019-05-30T17_25_26.csv\"\n",
      "        },\n",
      "        \"delaney\": {\n",
      "            \"spending\": \"../data/fec/2020/democrat/delaney/schedule_b-2019-05-30T17_11_01.csv\",\n",
      "            \"donations\": \"../data/fec/2020/democrat/delaney/schedule_a-2019-05-30T17_10_21.csv\"\n",
      "        },\n",
      "        \"inslee\": {\n",
      "            \"spending\": \"../data/fec/2020/democrat/inslee/schedule_b-2019-05-30T17_39_27.csv\",\n",
      "            \"donations\": \"../data/fec/2020/democrat/inslee/schedule_a-2019-05-30T17_39_13.csv\"\n",
      "        },\n",
      "        \"orourke\": {\n",
      "            \"donations\": \"../data/fec/2020/democrat/orourke/schedule_a-2019-05-30T17_25_21.csv\",\n",
      "            \"spending\": \"../data/fec/2020/democrat/orourke/schedule_b-2019-05-30T17_26_40.csv\"\n",
      "        },\n",
      "        \"warren\": {\n",
      "            \"spending\": \"../data/fec/2020/democrat/warren/schedule_b-2019-05-30T17_20_23.csv\",\n",
      "            \"donations\": \"../data/fec/2020/democrat/warren/schedule_a-2019-05-30T17_19_58.csv\"\n",
      "        },\n",
      "        \"sanders\": {\n",
      "            \"spending\": \"../data/fec/2020/democrat/sanders/schedule_b-2019-05-30T17_06_38.csv\",\n",
      "            \"donations\": \"../data/fec/2020/democrat/sanders/schedule_a-2019-05-30T17_07_08.csv\"\n",
      "        },\n",
      "        \"gabbard\": {\n",
      "            \"spending\": \"../data/fec/2020/democrat/gabbard/schedule_b-2019-05-30T17_33_24.csv\",\n",
      "            \"donations\": \"../data/fec/2020/democrat/gabbard/schedule_a-2019-05-30T17_33_22.csv\"\n",
      "        },\n",
      "        \"booker\": {\n",
      "            \"spending\": \"../data/fec/2020/democrat/booker/schedule_b-2019-05-30T17_29_42.csv\",\n",
      "            \"donations\": \"../data/fec/2020/democrat/booker/schedule_a-2019-05-30T17_30_40.csv\"\n",
      "        }\n",
      "    }\n",
      "}\n"
     ]
    }
   ],
   "source": [
    "fec_2020_paths = {}\n",
    "base_path = os.path.join(\"..\",\"data\",\"fec\",\"2020\")\n",
    "for party_dir in os.listdir(base_path):\n",
    "    if(party_dir[0]!=\".\"):\n",
    "        fec_2020_paths[party_dir] = {}\n",
    "        for cand_dir in os.listdir(os.path.join(base_path,party_dir)):\n",
    "            if(cand_dir[0]!=\".\"):\n",
    "                fec_2020_paths[party_dir][cand_dir] = {}\n",
    "                for csv_path in os.listdir(os.path.join(base_path,party_dir,cand_dir)):\n",
    "                    if(csv_path.find(\"schedule_a\")>=0):\n",
    "                        fec_2020_paths[party_dir][cand_dir][\"donations\"] = \\\n",
    "                            os.path.join(base_path,party_dir,cand_dir,csv_path)\n",
    "                    elif(csv_path.find(\"schedule_b\")>=0):\n",
    "                        fec_2020_paths[party_dir][cand_dir][\"spending\"] = \\\n",
    "                            os.path.join(base_path,party_dir,cand_dir,csv_path)\n",
    "print(json.dumps(fec_2020_paths, indent=4))"
   ]
  },
  {
   "cell_type": "code",
   "execution_count": 53,
   "metadata": {},
   "outputs": [
    {
     "name": "stdout",
     "output_type": "stream",
     "text": [
      "harris: 90\n",
      "buttigieg: 66\n",
      "klobuchar: 18\n",
      "yang: 81\n",
      "gillibrand: 81\n",
      "delaney: 79\n",
      "inslee: 41\n",
      "orourke: 86\n",
      "warren: 90\n",
      "sanders: 41\n",
      "gabbard: 70\n",
      "booker: 90\n"
     ]
    },
    {
     "data": {
      "image/png": "[encoded data removed]",
      "text/plain": [
       "<matplotlib.figure.Figure at 0x117b92080>"
      ]
     },
     "metadata": {},
     "output_type": "display_data"
    }
   ],
   "source": [
    "fig, ax = plt.subplots()\n",
    "for candid in fec_2020_paths[\"democrat\"].keys():\n",
    "    if(\"donations\" in fec_2020_paths[\"democrat\"][candid].keys()):\n",
    "        df = pd.read_csv(fec_2020_paths[\"democrat\"][candid][\"donations\"])\n",
    "        ts = df.groupby(by=\"contribution_receipt_date\")[\"contribution_receipt_amount\"].sum()\n",
    "        print(\"{:s}: {:d}\".format(candid, len(ts)))\n",
    "        plt.plot(ts)\n",
    "plt.show()"
   ]
  }
 ],
 "metadata": {
  "kernelspec": {
   "display_name": "Python 3",
   "language": "python",
   "name": "python3"
  },
  "language_info": {
   "codemirror_mode": {
    "name": "ipython",
    "version": 3
   },
   "file_extension": ".py",
   "mimetype": "text/x-python",
   "name": "python",
   "nbconvert_exporter": "python",
   "pygments_lexer": "ipython3",
   "version": "3.6.3"
  }
 },
 "nbformat": 4,
 "nbformat_minor": 2
}
